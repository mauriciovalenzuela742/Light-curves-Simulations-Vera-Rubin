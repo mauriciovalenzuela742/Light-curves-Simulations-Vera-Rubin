{
  "nbformat": 4,
  "nbformat_minor": 0,
  "metadata": {
    "colab": {
      "provenance": [],
      "toc_visible": true
    },
    "kernelspec": {
      "name": "python3",
      "display_name": "Python 3"
    },
    "language_info": {
      "name": "python"
    }
  },
  "cells": [
    {
      "cell_type": "markdown",
      "source": [
        "# Introducción\n",
        "\n",
        "En este notebook se presentan las simulaciones de núcleos galácticos activos (AGN) realizadas para los campos *Deep Drilling Fields (DDF)* del LSST.  \n",
        "El objetivo general es generar y analizar curvas de luz sintéticas para un modelo de TDE, con el fin de evaluar la cobertura temporal, calidad fotométrica y posibles estrategias de detección.\n",
        "\n",
        "Estas simulaciones permiten entender el desempeño esperado del LSST en la observación de eventos transitorios extremadamente luminosos, y contribuyen a optimizar los criterios de clasificación y selección en futuros catálogos de supernovas.\n",
        "\n",
        "El notebook está organizado en etapas: configuración inicial, definición de modelos, generación de curvas de luz, lectura de resultados, visualización y análisis.\n"
      ],
      "metadata": {
        "id": "mkK2fptTh6Zt"
      }
    },
    {
      "cell_type": "markdown",
      "source": [
        "# Configuración inicial\n",
        "En esta sección se importan las librerías necesarias y se configuran las rutas de acceso a los datos.\n",
        "\n"
      ],
      "metadata": {
        "id": "orXRhCAbaRkb"
      }
    },
    {
      "cell_type": "code",
      "metadata": {
        "colab": {
          "base_uri": "https://localhost:8080/"
        },
        "id": "f66a8a76",
        "outputId": "dd84674d-6ccb-4746-fa47-723e62d57bf2"
      },
      "source": [
        "!pip install healpy"
      ],
      "execution_count": 4,
      "outputs": [
        {
          "output_type": "stream",
          "name": "stdout",
          "text": [
            "Requirement already satisfied: healpy in /usr/local/lib/python3.12/dist-packages (1.18.1)\n",
            "Requirement already satisfied: numpy>=1.19 in /usr/local/lib/python3.12/dist-packages (from healpy) (2.0.2)\n",
            "Requirement already satisfied: astropy in /usr/local/lib/python3.12/dist-packages (from healpy) (7.1.1)\n",
            "Requirement already satisfied: pyerfa>=2.0.1.1 in /usr/local/lib/python3.12/dist-packages (from astropy->healpy) (2.0.1.5)\n",
            "Requirement already satisfied: astropy-iers-data>=0.2025.9.29.0.35.48 in /usr/local/lib/python3.12/dist-packages (from astropy->healpy) (0.2025.10.20.0.39.8)\n",
            "Requirement already satisfied: PyYAML>=6.0.0 in /usr/local/lib/python3.12/dist-packages (from astropy->healpy) (6.0.3)\n",
            "Requirement already satisfied: packaging>=22.0.0 in /usr/local/lib/python3.12/dist-packages (from astropy->healpy) (25.0)\n"
          ]
        }
      ]
    },
    {
      "cell_type": "code",
      "source": [
        "import numpy as np\n",
        "import pandas as pd\n",
        "from astropy.io import fits\n",
        "from astropy.table import Table\n",
        "import matplotlib.pyplot as plt\n",
        "import matplotlib.ticker as mticker\n",
        "from sklearn.neighbors import BallTree\n",
        "import healpy as hp\n",
        "\n",
        "print(\"=== INICIALIZACIÓN ANÁLISIS ARCHIVOS AGN ===\")\n"
      ],
      "metadata": {
        "id": "rO8-rwI1DMMD",
        "colab": {
          "base_uri": "https://localhost:8080/"
        },
        "outputId": "02a9c29f-75a3-44cc-a36a-e681a0b37733"
      },
      "execution_count": 3,
      "outputs": [
        {
          "output_type": "stream",
          "name": "stdout",
          "text": [
            "=== INICIALIZACIÓN ANÁLISIS ARCHIVOS AGN ===\n"
          ]
        }
      ]
    },
    {
      "cell_type": "markdown",
      "source": [
        "#Carga de archivos"
      ],
      "metadata": {
        "id": "oLBwXYCmeHKv"
      }
    },
    {
      "cell_type": "code",
      "source": [
        "from google.colab import files\n",
        "\n",
        "print(\"=== SUBIENDO ARCHIVOS TDE ===\")\n",
        "uploaded = files.upload()\n",
        "\n",
        "# Verificar archivos subidos\n",
        "print(\"\\n=== ARCHIVOS SUBIDOS ===\")\n",
        "for fn in uploaded.keys():\n",
        "    print(f'Archivo: \"{fn}\" - Tamaño: {len(uploaded[fn])} bytes')\n",
        "\n",
        "# Lista de archivos esperados\n",
        "expected_files = [\n",
        "    'AGN_DDF_20251020_PHOT.FITS',\n",
        "    'AGN_DDF_20251020_HEAD.FITS',\n",
        "    'AGN_DDF_20251020.DUMP'\n",
        "]\n",
        "\n",
        "print(\"\\n=== VERIFICACIÓN DE ARCHIVOS ===\")\n",
        "for file in expected_files:\n",
        "    if file in uploaded.keys():\n",
        "        print(f\"✅ {file} - CARGADO\")\n",
        "    else:\n",
        "        print(f\"❌ {file} - FALTANTE\")"
      ],
      "metadata": {
        "colab": {
          "base_uri": "https://localhost:8080/",
          "height": 435
        },
        "id": "AohUJhgyUatq",
        "outputId": "2967dfa0-5cc7-4de0-b5d7-4ceb4507b56f"
      },
      "execution_count": 6,
      "outputs": [
        {
          "output_type": "stream",
          "name": "stdout",
          "text": [
            "=== SUBIENDO ARCHIVOS TDE ===\n"
          ]
        },
        {
          "output_type": "display_data",
          "data": {
            "text/plain": [
              "<IPython.core.display.HTML object>"
            ],
            "text/html": [
              "\n",
              "     <input type=\"file\" id=\"files-3507ab43-f51f-44b2-93f4-9ec0b294add3\" name=\"files[]\" multiple disabled\n",
              "        style=\"border:none\" />\n",
              "     <output id=\"result-3507ab43-f51f-44b2-93f4-9ec0b294add3\">\n",
              "      Upload widget is only available when the cell has been executed in the\n",
              "      current browser session. Please rerun this cell to enable.\n",
              "      </output>\n",
              "      <script>// Copyright 2017 Google LLC\n",
              "//\n",
              "// Licensed under the Apache License, Version 2.0 (the \"License\");\n",
              "// you may not use this file except in compliance with the License.\n",
              "// You may obtain a copy of the License at\n",
              "//\n",
              "//      http://www.apache.org/licenses/LICENSE-2.0\n",
              "//\n",
              "// Unless required by applicable law or agreed to in writing, software\n",
              "// distributed under the License is distributed on an \"AS IS\" BASIS,\n",
              "// WITHOUT WARRANTIES OR CONDITIONS OF ANY KIND, either express or implied.\n",
              "// See the License for the specific language governing permissions and\n",
              "// limitations under the License.\n",
              "\n",
              "/**\n",
              " * @fileoverview Helpers for google.colab Python module.\n",
              " */\n",
              "(function(scope) {\n",
              "function span(text, styleAttributes = {}) {\n",
              "  const element = document.createElement('span');\n",
              "  element.textContent = text;\n",
              "  for (const key of Object.keys(styleAttributes)) {\n",
              "    element.style[key] = styleAttributes[key];\n",
              "  }\n",
              "  return element;\n",
              "}\n",
              "\n",
              "// Max number of bytes which will be uploaded at a time.\n",
              "const MAX_PAYLOAD_SIZE = 100 * 1024;\n",
              "\n",
              "function _uploadFiles(inputId, outputId) {\n",
              "  const steps = uploadFilesStep(inputId, outputId);\n",
              "  const outputElement = document.getElementById(outputId);\n",
              "  // Cache steps on the outputElement to make it available for the next call\n",
              "  // to uploadFilesContinue from Python.\n",
              "  outputElement.steps = steps;\n",
              "\n",
              "  return _uploadFilesContinue(outputId);\n",
              "}\n",
              "\n",
              "// This is roughly an async generator (not supported in the browser yet),\n",
              "// where there are multiple asynchronous steps and the Python side is going\n",
              "// to poll for completion of each step.\n",
              "// This uses a Promise to block the python side on completion of each step,\n",
              "// then passes the result of the previous step as the input to the next step.\n",
              "function _uploadFilesContinue(outputId) {\n",
              "  const outputElement = document.getElementById(outputId);\n",
              "  const steps = outputElement.steps;\n",
              "\n",
              "  const next = steps.next(outputElement.lastPromiseValue);\n",
              "  return Promise.resolve(next.value.promise).then((value) => {\n",
              "    // Cache the last promise value to make it available to the next\n",
              "    // step of the generator.\n",
              "    outputElement.lastPromiseValue = value;\n",
              "    return next.value.response;\n",
              "  });\n",
              "}\n",
              "\n",
              "/**\n",
              " * Generator function which is called between each async step of the upload\n",
              " * process.\n",
              " * @param {string} inputId Element ID of the input file picker element.\n",
              " * @param {string} outputId Element ID of the output display.\n",
              " * @return {!Iterable<!Object>} Iterable of next steps.\n",
              " */\n",
              "function* uploadFilesStep(inputId, outputId) {\n",
              "  const inputElement = document.getElementById(inputId);\n",
              "  inputElement.disabled = false;\n",
              "\n",
              "  const outputElement = document.getElementById(outputId);\n",
              "  outputElement.innerHTML = '';\n",
              "\n",
              "  const pickedPromise = new Promise((resolve) => {\n",
              "    inputElement.addEventListener('change', (e) => {\n",
              "      resolve(e.target.files);\n",
              "    });\n",
              "  });\n",
              "\n",
              "  const cancel = document.createElement('button');\n",
              "  inputElement.parentElement.appendChild(cancel);\n",
              "  cancel.textContent = 'Cancel upload';\n",
              "  const cancelPromise = new Promise((resolve) => {\n",
              "    cancel.onclick = () => {\n",
              "      resolve(null);\n",
              "    };\n",
              "  });\n",
              "\n",
              "  // Wait for the user to pick the files.\n",
              "  const files = yield {\n",
              "    promise: Promise.race([pickedPromise, cancelPromise]),\n",
              "    response: {\n",
              "      action: 'starting',\n",
              "    }\n",
              "  };\n",
              "\n",
              "  cancel.remove();\n",
              "\n",
              "  // Disable the input element since further picks are not allowed.\n",
              "  inputElement.disabled = true;\n",
              "\n",
              "  if (!files) {\n",
              "    return {\n",
              "      response: {\n",
              "        action: 'complete',\n",
              "      }\n",
              "    };\n",
              "  }\n",
              "\n",
              "  for (const file of files) {\n",
              "    const li = document.createElement('li');\n",
              "    li.append(span(file.name, {fontWeight: 'bold'}));\n",
              "    li.append(span(\n",
              "        `(${file.type || 'n/a'}) - ${file.size} bytes, ` +\n",
              "        `last modified: ${\n",
              "            file.lastModifiedDate ? file.lastModifiedDate.toLocaleDateString() :\n",
              "                                    'n/a'} - `));\n",
              "    const percent = span('0% done');\n",
              "    li.appendChild(percent);\n",
              "\n",
              "    outputElement.appendChild(li);\n",
              "\n",
              "    const fileDataPromise = new Promise((resolve) => {\n",
              "      const reader = new FileReader();\n",
              "      reader.onload = (e) => {\n",
              "        resolve(e.target.result);\n",
              "      };\n",
              "      reader.readAsArrayBuffer(file);\n",
              "    });\n",
              "    // Wait for the data to be ready.\n",
              "    let fileData = yield {\n",
              "      promise: fileDataPromise,\n",
              "      response: {\n",
              "        action: 'continue',\n",
              "      }\n",
              "    };\n",
              "\n",
              "    // Use a chunked sending to avoid message size limits. See b/62115660.\n",
              "    let position = 0;\n",
              "    do {\n",
              "      const length = Math.min(fileData.byteLength - position, MAX_PAYLOAD_SIZE);\n",
              "      const chunk = new Uint8Array(fileData, position, length);\n",
              "      position += length;\n",
              "\n",
              "      const base64 = btoa(String.fromCharCode.apply(null, chunk));\n",
              "      yield {\n",
              "        response: {\n",
              "          action: 'append',\n",
              "          file: file.name,\n",
              "          data: base64,\n",
              "        },\n",
              "      };\n",
              "\n",
              "      let percentDone = fileData.byteLength === 0 ?\n",
              "          100 :\n",
              "          Math.round((position / fileData.byteLength) * 100);\n",
              "      percent.textContent = `${percentDone}% done`;\n",
              "\n",
              "    } while (position < fileData.byteLength);\n",
              "  }\n",
              "\n",
              "  // All done.\n",
              "  yield {\n",
              "    response: {\n",
              "      action: 'complete',\n",
              "    }\n",
              "  };\n",
              "}\n",
              "\n",
              "scope.google = scope.google || {};\n",
              "scope.google.colab = scope.google.colab || {};\n",
              "scope.google.colab._files = {\n",
              "  _uploadFiles,\n",
              "  _uploadFilesContinue,\n",
              "};\n",
              "})(self);\n",
              "</script> "
            ]
          },
          "metadata": {}
        },
        {
          "output_type": "stream",
          "name": "stdout",
          "text": [
            "Saving AGN_DDF_20251020.DUMP to AGN_DDF_20251020.DUMP\n",
            "Saving AGN_DDF_20251020.LIST to AGN_DDF_20251020.LIST\n",
            "Saving AGN_DDF_20251020.README to AGN_DDF_20251020.README\n",
            "Saving AGN_DDF_20251020_HEAD.FITS to AGN_DDF_20251020_HEAD.FITS\n",
            "Saving AGN_DDF_20251020_PHOT.FITS to AGN_DDF_20251020_PHOT.FITS\n",
            "\n",
            "=== ARCHIVOS SUBIDOS ===\n",
            "Archivo: \"AGN_DDF_20251020.DUMP\" - Tamaño: 531514 bytes\n",
            "Archivo: \"AGN_DDF_20251020.LIST\" - Tamaño: 26 bytes\n",
            "Archivo: \"AGN_DDF_20251020.README\" - Tamaño: 4540 bytes\n",
            "Archivo: \"AGN_DDF_20251020_HEAD.FITS\" - Tamaño: 1028160 bytes\n",
            "Archivo: \"AGN_DDF_20251020_PHOT.FITS\" - Tamaño: 884191680 bytes\n",
            "\n",
            "=== VERIFICACIÓN DE ARCHIVOS ===\n",
            "✅ AGN_DDF_20251020_PHOT.FITS - CARGADO\n",
            "✅ AGN_DDF_20251020_HEAD.FITS - CARGADO\n",
            "✅ AGN_DDF_20251020.DUMP - CARGADO\n"
          ]
        }
      ]
    },
    {
      "cell_type": "markdown",
      "source": [
        "# Inspeccion y ajustes primarios"
      ],
      "metadata": {
        "id": "VF05WH_2g2ma"
      }
    },
    {
      "cell_type": "markdown",
      "source": [
        "## Inspeccion de estructura de archivos FITS\n"
      ],
      "metadata": {
        "id": "66Oi1DsLdvM1"
      }
    },
    {
      "cell_type": "code",
      "source": [
        "print(\"🔍 INSPECCIONANDO ESTRUCTURA DE ARCHIVOS FITS...\")\n",
        "\n",
        "# Inspeccionar PHOT.FITS\n",
        "print(\"\\n📁 ARCHIVO PHOT.FITS:\")\n",
        "with fits.open('AGN_DDF_20251020_PHOT.FITS') as hdul:\n",
        "    hdul.info()\n",
        "    phot_data = hdul[1].data\n",
        "    print(f\"   • Observaciones: {len(phot_data):,}\")\n",
        "    print(f\"   • Columnas: {len(phot_data.names)}\")\n",
        "    print(\"   • Primeras 5 columnas:\")\n",
        "    for i, col in enumerate(phot_data.names[:5]):\n",
        "        print(f\"     {i}. {col}: {phot_data[col].dtype}\")\n",
        "\n",
        "# Inspeccionar HEAD.FITS\n",
        "print(\"\\n📁 ARCHIVO HEAD.FITS:\")\n",
        "with fits.open('AGN_DDF_20251020_HEAD.FITS') as hdul:\n",
        "    hdul.info()\n",
        "    head_data = hdul[1].data\n",
        "    print(f\"   • Objetos: {len(head_data):,}\")\n",
        "    print(f\"   • Columnas: {len(head_data.names)}\")\n",
        "    print(\"   • Columnas clave:\")\n",
        "    key_cols = ['SNID', 'RA', 'DEC', 'REDSHIFT_FINAL', 'SNTYPE', 'PTROBS_MIN', 'PTROBS_MAX']\n",
        "    for col in key_cols:\n",
        "        if col in head_data.names:\n",
        "            print(f\"     • {col}: {head_data[col].dtype}\")"
      ],
      "metadata": {
        "colab": {
          "base_uri": "https://localhost:8080/"
        },
        "id": "RSDdmK1v63vb",
        "outputId": "3f15ab17-64ea-45e9-b3f9-af15a35c8061"
      },
      "execution_count": 4,
      "outputs": [
        {
          "output_type": "stream",
          "name": "stdout",
          "text": [
            "🔍 INSPECCIONANDO ESTRUCTURA DE ARCHIVOS FITS...\n",
            "\n",
            "📁 ARCHIVO PHOT.FITS:\n",
            "Filename: AGN_DDF_20251020_PHOT.FITS\n",
            "No.    Name      Ver    Type      Cards   Dimensions   Format\n",
            "  0  PRIMARY       1 PrimaryHDU      51   (0,)      \n",
            "  1  Photometry    1 BinTableHDU     69   10047486R x 20C   [1D, 2A, 1I, 12A, 1J, 1E, 1E, 1E, 1E, 1E, 1E, 1E, 1E, 1E, 1E, 1E, 1E, 1E, 1E, 1E]   \n",
            "   • Observaciones: 10,047,486\n",
            "   • Columnas: 20\n",
            "   • Primeras 5 columnas:\n",
            "     0. MJD: >f8\n",
            "     1. BAND: <U2\n",
            "     2. CCDNUM: >i2\n",
            "     3. FIELD: <U12\n",
            "     4. PHOTFLAG: >i4\n",
            "\n",
            "📁 ARCHIVO HEAD.FITS:\n",
            "Filename: AGN_DDF_20251020_HEAD.FITS\n",
            "No.    Name      Ver    Type      Cards   Dimensions   Format\n",
            "  0  PRIMARY       1 PrimaryHDU      53   (0,)      \n",
            "  1  Header        1 BinTableHDU    489   1364R x 160C   [16A, 1I, 1D, 1D, 1E, 1I, 1I, 1J, 1J, 1J, 1J, 1E, 1E, 1E, 1E, 1E, 1E, 1I, 1E, 1E, 1E, 1E, 1I, 1I, 1K, 1I, 1E, 1E, 1E, 1E, 1D, 1D, 1E, 1E, 1E, 1E, 1E, 1E, 1E, 1E, 1E, 1E, 1E, 1E, 1K, 1E, 1K, 1E, 1E, 1E, 1E, 1E, 1E, 1E, 1E, 1E, 1E, 1E, 1E, 1K, 1I, 1E, 1E, 1E, 1E, 1D, 1D, 1E, 1E, 1E, 1E, 1E, 1E, 1E, 1E, 1E, 1E, 1E, 1K, 1E, 1K, 1E, 1E, 1E, 1E, 1E, 1E, 1E, 1E, 1E, 1E, 1E, 1E, 1E, 1E, 1E, 1E, 1E, 1E, 1E, 1E, 1E, 1E, 1J, 32A, 1I, 1I, 1I, 8A, 1J, 1J, 1J, 1J, 1J, 1E, 1E, 1E, 1I, 1E, 1K, 1E, 1E, 1D, 1D, 1E, 1E, 1E, 1E, 1E, 1E, 1E, 1E, 1E, 1E, 1E, 1E, 1E, 1E, 1E, 1E, 1E, 1E, 1E, 1E, 1E, 1E, 1E, 1E, 1E, 1E, 1E, 1E, 1E, 1E, 1E, 1E, 1E, 1E, 1E, 1I]   \n",
            "   • Objetos: 1,364\n",
            "   • Columnas: 160\n",
            "   • Columnas clave:\n",
            "     • SNID: <U16\n",
            "     • RA: >f8\n",
            "     • DEC: >f8\n",
            "     • REDSHIFT_FINAL: >f4\n",
            "     • SNTYPE: >i4\n",
            "     • PTROBS_MIN: >i4\n",
            "     • PTROBS_MAX: >i4\n"
          ]
        }
      ]
    },
    {
      "cell_type": "markdown",
      "source": [
        "## Dataframes a pandas"
      ],
      "metadata": {
        "id": "jJNRV-3SeX3R"
      }
    },
    {
      "cell_type": "code",
      "source": [
        "print(\"🔄 CARGANDO DATOS A DATAFRAMES...\")\n",
        "\n",
        "# Cargar datos fotométricos\n",
        "phot_df = Table.read('AGN_DDF_20251020_PHOT.FITS', hdu=1).to_pandas()\n",
        "print(f\"✅ PHOT cargado: {len(phot_df):,} filas × {len(phot_df.columns)} columnas\")\n",
        "\n",
        "# Cargar metadatos\n",
        "head_df = Table.read('AGN_DDF_20251020_HEAD.FITS', hdu=1).to_pandas()\n",
        "print(f\"✅ HEAD cargado: {len(head_df):,} filas × {len(head_df.columns)} columnas\")\n",
        "\n",
        "# Cargar DUMP (si existe)\n",
        "try:\n",
        "    dump_df = Table.read('AGN_DDF_20251020.DUMP', format='ascii').to_pandas()\n",
        "    print(f\"✅ DUMP cargado: {len(dump_df):,} filas × {len(dump_df.columns)} columnas\")\n",
        "except Exception as e:\n",
        "    print(f\"⚠️  DUMP no cargado: {e}\")\n",
        "    dump_df = pd.DataFrame()\n",
        "\n",
        "print(f\"\\n📊 RESUMEN CARGA:\")\n",
        "print(f\"   • Observaciones/objeto: {len(phot_df)/len(head_df):.1f}\")\n",
        "print(f\"   • Memoria PHOT: {phot_df.memory_usage(deep=True).sum()/1e6:.1f} MB\")\n",
        "print(f\"   • Memoria HEAD: {head_df.memory_usage(deep=True).sum()/1e6:.1f} MB\")"
      ],
      "metadata": {
        "colab": {
          "base_uri": "https://localhost:8080/"
        },
        "id": "SurLm4jj677n",
        "outputId": "f07d8a41-daa3-4015-87ec-0e288c2171e8"
      },
      "execution_count": 5,
      "outputs": [
        {
          "output_type": "stream",
          "name": "stdout",
          "text": [
            "🔄 CARGANDO DATOS A DATAFRAMES...\n",
            "✅ PHOT cargado: 10,047,486 filas × 20 columnas\n",
            "✅ HEAD cargado: 1,364 filas × 160 columnas\n",
            "✅ DUMP cargado: 2,000 filas × 36 columnas\n",
            "\n",
            "📊 RESUMEN CARGA:\n",
            "   • Observaciones/objeto: 7366.2\n",
            "   • Memoria PHOT: 1708.1 MB\n",
            "   • Memoria HEAD: 1.1 MB\n"
          ]
        }
      ]
    },
    {
      "cell_type": "code",
      "source": [
        "print(\"🔄 DIVIDIENDO DATAFRAMES PARA PROCESAMIENTO...\")\n",
        "\n",
        "# Dividir phot_df en 4 partes\n",
        "n_phot_parts = 4\n",
        "phot_parts = np.array_split(phot_df, n_phot_parts)\n",
        "print(f\"✅ phot_df dividido en {n_phot_parts} partes.\")\n",
        "\n",
        "# Dividir head_df en 2 partes\n",
        "n_head_parts = 2\n",
        "head_parts = np.array_split(head_df, n_head_parts)\n",
        "print(f\"✅ head_df dividido en {n_head_parts} partes.\")\n",
        "\n",
        "# Lista para almacenar las partes transformadas\n",
        "transformed_phot_parts = []\n",
        "transformed_head_parts = []\n",
        "\n",
        "print(\"\\n🎯 APLICANDO TRANSFORMACIONES FÍSICAS A LAS PARTES...\")\n",
        "\n",
        "# Transformaciones físicas (definidas anteriormente, se usarán aquí)\n",
        "def flux_to_mag_AB(flux):\n",
        "    \"\"\"Conversión flujo → magnitud AB con zeropoint 27.5\"\"\"\n",
        "    if flux <= 0:\n",
        "        return np.nan\n",
        "    return 27.5 - 2.5 * np.log10(flux)\n",
        "\n",
        "def flux_to_mag_err_AB(flux, flux_err):\n",
        "    \"\"\"Error en magnitud AB\"\"\"\n",
        "    if flux <= 0:\n",
        "        return np.nan\n",
        "    return (2.5 / np.log(10)) * (flux_err / flux)\n",
        "\n",
        "\n",
        "# Procesar partes de phot_df\n",
        "for i, part in enumerate(phot_parts):\n",
        "    print(f\"   • Procesando parte {i+1}/{n_phot_parts} de phot_df...\")\n",
        "    # Limpieza de bandas\n",
        "    part['BAND'] = part['BAND'].str.decode('utf-8').str.strip()\n",
        "    # Aplicar transformaciones\n",
        "    part['FLUX_uJy'] = part['FLUXCAL'] * 10**(-1.44)\n",
        "    part['FLUX_uJy_ERR'] = part['FLUXCALERR'] * 10**(-1.44)\n",
        "    part['MAG_AB'] = part.apply(lambda x: flux_to_mag_AB(x['FLUXCAL']), axis=1)\n",
        "    part['MAG_AB_ERR'] = part.apply(lambda x: flux_to_mag_err_AB(x['FLUXCAL'], x['FLUXCALERR']), axis=1)\n",
        "    transformed_phot_parts.append(part)\n",
        "    print(f\"     Parte {i+1} procesada. Filas: {len(part):,}\")\n",
        "\n",
        "# Procesar partes de head_df\n",
        "for i, part in enumerate(head_parts):\n",
        "    print(f\"   • Procesando parte {i+1}/{n_head_parts} de head_df...\")\n",
        "    # Preparar coordenadas para análisis espacial\n",
        "    part['rad_ra'] = np.radians(part['RA'])\n",
        "    part['rad_dec'] = np.radians(part['DEC'])\n",
        "    transformed_head_parts.append(part)\n",
        "    print(f\"     Parte {i+1} procesada. Filas: {len(part):,}\")\n",
        "\n",
        "\n",
        "print(\"\\n🔄 CONCATENANDO PARTES TRANSFORMADAS...\")\n",
        "\n",
        "# Concatenar las partes transformadas\n",
        "phot_df_transformed = pd.concat(transformed_phot_parts, ignore_index=True)\n",
        "head_df_transformed = pd.concat(transformed_head_parts, ignore_index=True)\n",
        "\n",
        "print(\"✅ CONCATENACIÓN COMPLETADA.\")\n",
        "print(f\"   • phot_df_transformed: {len(phot_df_transformed):,} filas × {len(phot_df_transformed.columns)} columnas\")\n",
        "print(f\"   • head_df_transformed: {len(head_df_transformed):,} filas × {len(head_df_transformed.columns)} columnas\")\n",
        "\n",
        "\n",
        "print(f\"\\n✅ TRANSFORMACIONES COMPLETADAS:\")\n",
        "print(f\"   • Observaciones con flujo positivo: {(phot_df_transformed['FLUXCAL'] > 0).sum():,}\")\n",
        "print(f\"   • Rango magnitudes AB: {phot_df_transformed['MAG_AB'].min():.2f} - {phot_df_transformed['MAG_AB'].max():.2f}\")\n",
        "print(f\"   • Rango flujo μJy: {phot_df_transformed['FLUX_uJy'].min():.2f} - {phot_df_transformed['FLUX_uJy'].max():.2f}\")"
      ],
      "metadata": {
        "colab": {
          "base_uri": "https://localhost:8080/"
        },
        "id": "huFE9P4BJqBI",
        "outputId": "8725f24a-b1f4-4b14-ad50-ef66ef69ae2e"
      },
      "execution_count": 7,
      "outputs": [
        {
          "output_type": "stream",
          "name": "stdout",
          "text": [
            "🔄 DIVIDIENDO DATAFRAMES PARA PROCESAMIENTO...\n"
          ]
        },
        {
          "output_type": "stream",
          "name": "stderr",
          "text": [
            "/usr/local/lib/python3.12/dist-packages/numpy/_core/fromnumeric.py:57: FutureWarning: 'DataFrame.swapaxes' is deprecated and will be removed in a future version. Please use 'DataFrame.transpose' instead.\n",
            "  return bound(*args, **kwds)\n"
          ]
        },
        {
          "output_type": "stream",
          "name": "stdout",
          "text": [
            "✅ phot_df dividido en 4 partes.\n",
            "✅ head_df dividido en 2 partes.\n",
            "\n",
            "🎯 APLICANDO TRANSFORMACIONES FÍSICAS A LAS PARTES...\n",
            "   • Procesando parte 1/4 de phot_df...\n",
            "     Parte 1 procesada. Filas: 2,511,872\n",
            "   • Procesando parte 2/4 de phot_df...\n",
            "     Parte 2 procesada. Filas: 2,511,872\n",
            "   • Procesando parte 3/4 de phot_df...\n",
            "     Parte 3 procesada. Filas: 2,511,871\n",
            "   • Procesando parte 4/4 de phot_df...\n",
            "     Parte 4 procesada. Filas: 2,511,871\n",
            "   • Procesando parte 1/2 de head_df...\n",
            "     Parte 1 procesada. Filas: 682\n",
            "   • Procesando parte 2/2 de head_df...\n",
            "     Parte 2 procesada. Filas: 682\n",
            "\n",
            "🔄 CONCATENANDO PARTES TRANSFORMADAS...\n",
            "✅ CONCATENACIÓN COMPLETADA.\n",
            "   • phot_df_transformed: 10,047,486 filas × 24 columnas\n",
            "   • head_df_transformed: 1,364 filas × 162 columnas\n",
            "\n",
            "✅ TRANSFORMACIONES COMPLETADAS:\n",
            "   • Observaciones con flujo positivo: 5,242,232\n",
            "   • Rango magnitudes AB: 19.52 - 40.65\n",
            "   • Rango flujo μJy: -36.16 - 56.59\n"
          ]
        }
      ]
    },
    {
      "cell_type": "code",
      "source": [
        "from google.colab import files\n",
        "\n",
        "print(\"⬇️ Descargando head_df_transformed como CSV...\")\n",
        "head_df_transformed.to_csv('head_df_transformed.csv', index=False)\n",
        "files.download('head_df_transformed.csv')\n",
        "\n",
        "print(\"⬇️ Descargando phot_df_transformed como CSV...\")\n",
        "# phot_df_transformed es muy grande, consideremos guardar solo algunas columnas o un subconjunto si el archivo es demasiado grande.\n",
        "# Por ahora, intentemos guardar el DataFrame completo.\n",
        "try:\n",
        "    phot_df_transformed.to_csv('phot_df_transformed.csv', index=False)\n",
        "    files.download('phot_df_transformed.csv')\n",
        "    print(\"✅ head_df_transformed.csv y phot_df_transformed.csv descargados.\")\n",
        "except Exception as e:\n",
        "    print(f\"❌ Error al descargar phot_df_transformed.csv: {e}\")\n",
        "    print(\"phot_df_transformed es muy grande. Considera descargar solo un subconjunto o columnas específicas.\")"
      ],
      "metadata": {
        "colab": {
          "base_uri": "https://localhost:8080/",
          "height": 69
        },
        "id": "s_mH719QMs9A",
        "outputId": "8ea7e104-9410-4e78-bf8a-ef7cf55c5008"
      },
      "execution_count": 8,
      "outputs": [
        {
          "output_type": "stream",
          "name": "stdout",
          "text": [
            "⬇️ Descargando head_df_transformed como CSV...\n"
          ]
        },
        {
          "output_type": "display_data",
          "data": {
            "text/plain": [
              "<IPython.core.display.Javascript object>"
            ],
            "application/javascript": [
              "\n",
              "    async function download(id, filename, size) {\n",
              "      if (!google.colab.kernel.accessAllowed) {\n",
              "        return;\n",
              "      }\n",
              "      const div = document.createElement('div');\n",
              "      const label = document.createElement('label');\n",
              "      label.textContent = `Downloading \"${filename}\": `;\n",
              "      div.appendChild(label);\n",
              "      const progress = document.createElement('progress');\n",
              "      progress.max = size;\n",
              "      div.appendChild(progress);\n",
              "      document.body.appendChild(div);\n",
              "\n",
              "      const buffers = [];\n",
              "      let downloaded = 0;\n",
              "\n",
              "      const channel = await google.colab.kernel.comms.open(id);\n",
              "      // Send a message to notify the kernel that we're ready.\n",
              "      channel.send({})\n",
              "\n",
              "      for await (const message of channel.messages) {\n",
              "        // Send a message to notify the kernel that we're ready.\n",
              "        channel.send({})\n",
              "        if (message.buffers) {\n",
              "          for (const buffer of message.buffers) {\n",
              "            buffers.push(buffer);\n",
              "            downloaded += buffer.byteLength;\n",
              "            progress.value = downloaded;\n",
              "          }\n",
              "        }\n",
              "      }\n",
              "      const blob = new Blob(buffers, {type: 'application/binary'});\n",
              "      const a = document.createElement('a');\n",
              "      a.href = window.URL.createObjectURL(blob);\n",
              "      a.download = filename;\n",
              "      div.appendChild(a);\n",
              "      a.click();\n",
              "      div.remove();\n",
              "    }\n",
              "  "
            ]
          },
          "metadata": {}
        },
        {
          "output_type": "display_data",
          "data": {
            "text/plain": [
              "<IPython.core.display.Javascript object>"
            ],
            "application/javascript": [
              "download(\"download_e95e3a61-4411-4baf-b635-fcc33d93a3ad\", \"head_df_transformed.csv\", 1523297)"
            ]
          },
          "metadata": {}
        },
        {
          "output_type": "stream",
          "name": "stdout",
          "text": [
            "⬇️ Descargando phot_df_transformed como CSV...\n"
          ]
        },
        {
          "output_type": "display_data",
          "data": {
            "text/plain": [
              "<IPython.core.display.Javascript object>"
            ],
            "application/javascript": [
              "\n",
              "    async function download(id, filename, size) {\n",
              "      if (!google.colab.kernel.accessAllowed) {\n",
              "        return;\n",
              "      }\n",
              "      const div = document.createElement('div');\n",
              "      const label = document.createElement('label');\n",
              "      label.textContent = `Downloading \"${filename}\": `;\n",
              "      div.appendChild(label);\n",
              "      const progress = document.createElement('progress');\n",
              "      progress.max = size;\n",
              "      div.appendChild(progress);\n",
              "      document.body.appendChild(div);\n",
              "\n",
              "      const buffers = [];\n",
              "      let downloaded = 0;\n",
              "\n",
              "      const channel = await google.colab.kernel.comms.open(id);\n",
              "      // Send a message to notify the kernel that we're ready.\n",
              "      channel.send({})\n",
              "\n",
              "      for await (const message of channel.messages) {\n",
              "        // Send a message to notify the kernel that we're ready.\n",
              "        channel.send({})\n",
              "        if (message.buffers) {\n",
              "          for (const buffer of message.buffers) {\n",
              "            buffers.push(buffer);\n",
              "            downloaded += buffer.byteLength;\n",
              "            progress.value = downloaded;\n",
              "          }\n",
              "        }\n",
              "      }\n",
              "      const blob = new Blob(buffers, {type: 'application/binary'});\n",
              "      const a = document.createElement('a');\n",
              "      a.href = window.URL.createObjectURL(blob);\n",
              "      a.download = filename;\n",
              "      div.appendChild(a);\n",
              "      a.click();\n",
              "      div.remove();\n",
              "    }\n",
              "  "
            ]
          },
          "metadata": {}
        },
        {
          "output_type": "display_data",
          "data": {
            "text/plain": [
              "<IPython.core.display.Javascript object>"
            ],
            "application/javascript": [
              "download(\"download_326c0bf1-c258-46ba-8bae-c4fe1639b980\", \"phot_df_transformed.csv\", 1829855910)"
            ]
          },
          "metadata": {}
        },
        {
          "output_type": "stream",
          "name": "stdout",
          "text": [
            "✅ head_df_transformed.csv y phot_df_transformed.csv descargados.\n"
          ]
        }
      ]
    },
    {
      "cell_type": "code",
      "source": [
        "# Renombrar los dataframes transformados a los nombres originales\n",
        "head_df = head_df_transformed\n",
        "phot_df = phot_df_transformed\n",
        "\n",
        "print(\"✅ DataFrames renombrados:\")\n",
        "print(\"   • head_df_transformed ahora es head_df\")\n",
        "print(\"   • phot_df_transformed ahora es phot_df\")"
      ],
      "metadata": {
        "colab": {
          "base_uri": "https://localhost:8080/"
        },
        "id": "zfeqMBvxSEDv",
        "outputId": "12066a75-df0a-4108-c8a7-3e662f841311"
      },
      "execution_count": 10,
      "outputs": [
        {
          "output_type": "stream",
          "name": "stdout",
          "text": [
            "✅ DataFrames renombrados:\n",
            "   • head_df_transformed ahora es head_df\n",
            "   • phot_df_transformed ahora es phot_df\n"
          ]
        }
      ]
    },
    {
      "cell_type": "markdown",
      "source": [
        "## Muestra de datos crudos"
      ],
      "metadata": {
        "id": "M7MNKxP7edDp"
      }
    },
    {
      "cell_type": "code",
      "source": [
        "print(\"📋 MUESTRA DE DATOS CRUDOS (primeras 5 filas):\")\n",
        "\n",
        "print(\"\\n📷 DATOS FOTOMÉTRICOS (PHOT):\")\n",
        "print(phot_df.head())\n",
        "\n",
        "print(\"\\n📄 METADATOS (HEAD):\")\n",
        "print(head_df[['SNID', 'RA', 'DEC', 'REDSHIFT_FINAL', 'SNTYPE']].head())\n",
        "\n",
        "print(f\"\\n🎯 ESTADÍSTICAS INICIALES:\")\n",
        "print(f\"   • Bandas en PHOT: {phot_df['BAND'].str.decode('utf-8').str.strip().unique()}\")\n",
        "print(f\"   • Rango MJD: {phot_df['MJD'].min():.1f} - {phot_df['MJD'].max():.1f}\")\n",
        "print(f\"   • Rango FLUXCAL: {phot_df['FLUXCAL'].min():.2e} - {phot_df['FLUXCAL'].max():.2e}\")"
      ],
      "metadata": {
        "colab": {
          "base_uri": "https://localhost:8080/"
        },
        "id": "yxVA-8D16_Du",
        "outputId": "b7e65a98-c706-49f7-a8fa-1ee6318c9bb1"
      },
      "execution_count": 6,
      "outputs": [
        {
          "output_type": "stream",
          "name": "stdout",
          "text": [
            "📋 MUESTRA DE DATOS CRUDOS (primeras 5 filas):\n",
            "\n",
            "📷 DATOS FOTOMÉTRICOS (PHOT):\n",
            "          MJD   BAND  CCDNUM            FIELD  PHOTFLAG  PHOTPROB    FLUXCAL  \\\n",
            "0  60981.3237  b'Y '      -9  b'VOID        '         0      -9.0 -31.142969   \n",
            "1  60981.3241  b'Y '      -9  b'VOID        '         0      -9.0 -18.933029   \n",
            "2  60990.2333  b'Y '      -9  b'VOID        '         0      -9.0 -31.517889   \n",
            "3  60990.2336  b'Y '      -9  b'VOID        '         0      -9.0 -12.860668   \n",
            "4  60991.2814  b'g '      -9  b'VOID        '         0      -9.0  -7.706625   \n",
            "\n",
            "   FLUXCALERR  PSF_SIG1  PSF_SIG2  PSF_RATIO    SKY_SIG  SKY_SIG_T  RDNOISE  \\\n",
            "0   19.429058      1.54       0.0        0.0  45.180000        0.0     0.25   \n",
            "1   19.453773      1.54       0.0        0.0  45.180000        0.0     0.25   \n",
            "2   18.982077      1.62       0.0        0.0  43.939999        0.0     0.25   \n",
            "3   19.018980      1.62       0.0        0.0  43.939999        0.0     0.25   \n",
            "4    3.321891      2.01       0.0        0.0  25.639999        0.0     0.25   \n",
            "\n",
            "      ZEROPT  ZEROPT_ERR  GAIN  XPIX  YPIX  SIM_MAGOBS  \n",
            "0  30.260000       0.005   1.0  -9.0  -9.0   23.839752  \n",
            "1  30.260000       0.005   1.0  -9.0  -9.0   23.839762  \n",
            "2  30.309999       0.005   1.0  -9.0  -9.0   23.878126  \n",
            "3  30.309999       0.005   1.0  -9.0  -9.0   23.878119  \n",
            "4  31.860001       0.005   1.0  -9.0  -9.0   24.855644  \n",
            "\n",
            "📄 METADATOS (HEAD):\n",
            "                  SNID         RA        DEC  REDSHIFT_FINAL  SNTYPE\n",
            "0  b'1               '  52.734375 -29.484461        0.444463       0\n",
            "1  b'2               '   7.409639 -43.207821        0.323512       0\n",
            "2  b'7               '  60.600000 -47.945494        0.465199       0\n",
            "3  b'8               '  62.292576 -47.161343        0.511894       0\n",
            "4  b'9               '  54.140625 -29.142224        0.853859       0\n",
            "\n",
            "🎯 ESTADÍSTICAS INICIALES:\n",
            "   • Bandas en PHOT: ['Y' 'g' 'i' 'z' 'r' 'u' '-']\n",
            "   • Rango MJD: -777.0 - 61831.2\n",
            "   • Rango FLUXCAL: -9.96e+02 - 1.56e+03\n"
          ]
        }
      ]
    },
    {
      "cell_type": "markdown",
      "source": [
        "## Transformaciones fisicas de flujo a magnitudes\n",
        "\n",
        "explicar ajuste de 1.44"
      ],
      "metadata": {
        "id": "BI4JGSQdemP4"
      }
    },
    {
      "cell_type": "code",
      "source": [
        "print(\"🎯 APLICANDO TRANSFORMACIONES FÍSICAS...\")\n",
        "\n",
        "# Limpieza de bandas\n",
        "phot_df['BAND'] = phot_df['BAND'].str.decode('utf-8').str.strip()\n",
        "print(f\"✅ Bandas limpiadas: {sorted(phot_df['BAND'].unique())}\")\n",
        "\n",
        "# Transformaciones físicas\n",
        "def flux_to_mag_AB(flux):\n",
        "    \"\"\"Conversión flujo → magnitud AB con zeropoint 27.5\"\"\"\n",
        "    if flux <= 0:\n",
        "        return np.nan\n",
        "    return 27.5 - 2.5 * np.log10(flux)\n",
        "\n",
        "def flux_to_mag_err_AB(flux, flux_err):\n",
        "    \"\"\"Error en magnitud AB\"\"\"\n",
        "    if flux <= 0:\n",
        "        return np.nan\n",
        "    return (2.5 / np.log(10)) * (flux_err / flux)\n",
        "\n",
        "# Aplicar transformaciones\n",
        "phot_df['FLUX_uJy'] = phot_df['FLUXCAL'] * 10**(-1.44)\n",
        "phot_df['FLUX_uJy_ERR'] = phot_df['FLUXCALERR'] * 10**(-1.44)\n",
        "phot_df['MAG_AB'] = phot_df.apply(lambda x: flux_to_mag_AB(x['FLUXCAL']), axis=1)\n",
        "phot_df['MAG_AB_ERR'] = phot_df.apply(lambda x: flux_to_mag_err_AB(x['FLUXCAL'], x['FLUXCALERR']), axis=1)\n",
        "\n",
        "# Preparar coordenadas para análisis espacial\n",
        "head_df['rad_ra'] = np.radians(head_df['RA'])\n",
        "head_df['rad_dec'] = np.radians(head_df['DEC'])\n",
        "\n",
        "print(\"✅ TRANSFORMACIONES COMPLETADAS:\")\n",
        "print(f\"   • Observaciones con flujo positivo: {(phot_df['FLUXCAL'] > 0).sum():,}\")\n",
        "print(f\"   • Rango magnitudes AB: {phot_df['MAG_AB'].min():.2f} - {phot_df['MAG_AB'].max():.2f}\")\n",
        "print(f\"   • Rango flujo μJy: {phot_df['FLUX_uJy'].min():.2f} - {phot_df['FLUX_uJy'].max():.2f}\")"
      ],
      "metadata": {
        "colab": {
          "base_uri": "https://localhost:8080/",
          "height": 228
        },
        "id": "Px3ECHSU7Puo",
        "outputId": "064b16b7-ede8-4b02-b06b-ac030ed71cea"
      },
      "execution_count": 1,
      "outputs": [
        {
          "output_type": "stream",
          "name": "stdout",
          "text": [
            "🎯 APLICANDO TRANSFORMACIONES FÍSICAS...\n"
          ]
        },
        {
          "output_type": "error",
          "ename": "NameError",
          "evalue": "name 'phot_df' is not defined",
          "traceback": [
            "\u001b[0;31m---------------------------------------------------------------------------\u001b[0m",
            "\u001b[0;31mNameError\u001b[0m                                 Traceback (most recent call last)",
            "\u001b[0;32m/tmp/ipython-input-3795986739.py\u001b[0m in \u001b[0;36m<cell line: 0>\u001b[0;34m()\u001b[0m\n\u001b[1;32m      2\u001b[0m \u001b[0;34m\u001b[0m\u001b[0m\n\u001b[1;32m      3\u001b[0m \u001b[0;31m# Limpieza de bandas\u001b[0m\u001b[0;34m\u001b[0m\u001b[0;34m\u001b[0m\u001b[0m\n\u001b[0;32m----> 4\u001b[0;31m \u001b[0mphot_df\u001b[0m\u001b[0;34m[\u001b[0m\u001b[0;34m'BAND'\u001b[0m\u001b[0;34m]\u001b[0m \u001b[0;34m=\u001b[0m \u001b[0mphot_df\u001b[0m\u001b[0;34m[\u001b[0m\u001b[0;34m'BAND'\u001b[0m\u001b[0;34m]\u001b[0m\u001b[0;34m.\u001b[0m\u001b[0mstr\u001b[0m\u001b[0;34m.\u001b[0m\u001b[0mdecode\u001b[0m\u001b[0;34m(\u001b[0m\u001b[0;34m'utf-8'\u001b[0m\u001b[0;34m)\u001b[0m\u001b[0;34m.\u001b[0m\u001b[0mstr\u001b[0m\u001b[0;34m.\u001b[0m\u001b[0mstrip\u001b[0m\u001b[0;34m(\u001b[0m\u001b[0;34m)\u001b[0m\u001b[0;34m\u001b[0m\u001b[0;34m\u001b[0m\u001b[0m\n\u001b[0m\u001b[1;32m      5\u001b[0m \u001b[0mprint\u001b[0m\u001b[0;34m(\u001b[0m\u001b[0;34mf\"✅ Bandas limpiadas: {sorted(phot_df['BAND'].unique())}\"\u001b[0m\u001b[0;34m)\u001b[0m\u001b[0;34m\u001b[0m\u001b[0;34m\u001b[0m\u001b[0m\n\u001b[1;32m      6\u001b[0m \u001b[0;34m\u001b[0m\u001b[0m\n",
            "\u001b[0;31mNameError\u001b[0m: name 'phot_df' is not defined"
          ]
        }
      ]
    },
    {
      "cell_type": "code",
      "source": [
        "display(phot_df.head())"
      ],
      "metadata": {
        "id": "HsnxGxh-7oKf"
      },
      "execution_count": null,
      "outputs": []
    },
    {
      "cell_type": "code",
      "source": [
        "display(head_df.head())\n"
      ],
      "metadata": {
        "id": "K81UDM7X7YL3"
      },
      "execution_count": null,
      "outputs": []
    },
    {
      "cell_type": "markdown",
      "source": [
        "## Descarga de datos en formato csv para equipo ALeRCE (\"checkpoint\")"
      ],
      "metadata": {
        "id": "DnmeVfp7slj6"
      }
    },
    {
      "cell_type": "code",
      "source": [
        "print(\"⬇️ Descargando head_df como CSV...\")\n",
        "head_df.to_csv('head_df.csv', index=False)\n",
        "files.download('head_df.csv')\n",
        "\n",
        "print(\"⬇️ Descargando phot_df como CSV...\")\n",
        "# phot_df es muy grande, consideremos guardar solo algunas columnas o un subconjunto si el archivo es demasiado grande.\n",
        "# Por ahora, intentemos guardar el DataFrame completo.\n",
        "try:\n",
        "    phot_df.to_csv('phot_df.csv', index=False)\n",
        "    files.download('phot_df.csv')\n",
        "    print(\"✅ head_df.csv y phot_df.csv descargados.\")\n",
        "except Exception as e:\n",
        "    print(f\"❌ Error al descargar phot_df.csv: {e}\")\n",
        "    print(\"phot_df es muy grande. Considera descargar solo un subconjunto o columnas específicas.\")"
      ],
      "metadata": {
        "id": "YuYDBepfyUqw"
      },
      "execution_count": null,
      "outputs": []
    },
    {
      "cell_type": "markdown",
      "source": [
        "## Vinculacion de observaciones con metadatos"
      ],
      "metadata": {
        "id": "vXocSQUbewNf"
      }
    },
    {
      "cell_type": "code",
      "source": [
        "print(\"🔗 VINCULANDO OBSERVACIONES CON METADATOS...\")\n",
        "\n",
        "linked_data = []\n",
        "total_linked = 0\n",
        "\n",
        "for idx, head_row in head_df.iterrows():\n",
        "    obs_min = head_row['PTROBS_MIN']\n",
        "    obs_max = head_row['PTROBS_MAX']\n",
        "\n",
        "    obj_phot = phot_df.iloc[obs_min:obs_max + 1].copy()\n",
        "    obj_phot['SNID'] = head_row['SNID']\n",
        "    obj_phot['RA'] = head_row['RA']\n",
        "    obj_phot['DEC'] = head_row['DEC']\n",
        "    obj_phot['REDSHIFT_FINAL'] = head_row['REDSHIFT_FINAL']\n",
        "    obj_phot['SNTYPE'] = head_row['SNTYPE']\n",
        "\n",
        "    linked_data.append(obj_phot)\n",
        "    total_linked += len(obj_phot)\n",
        "\n",
        "linked_df = pd.concat(linked_data, ignore_index=True)\n",
        "\n",
        "print(\"✅ VINCULACIÓN COMPLETADA:\")\n",
        "print(f\"   • Objetos procesados: {len(head_df):,}\")\n",
        "print(f\"   • Observaciones vinculadas: {len(linked_df):,}\")\n",
        "print(f\"   • Verificación: {total_linked == len(linked_df)}\")\n",
        "\n",
        "# Mostrar muestra de datos vinculados\n",
        "print(\"\\n📋 MUESTRA DATOS VINCULADOS:\")\n",
        "print(linked_df[['SNID', 'MJD', 'BAND', 'MAG_AB', 'REDSHIFT_FINAL']].head())"
      ],
      "metadata": {
        "colab": {
          "base_uri": "https://localhost:8080/"
        },
        "id": "61uJ_nB77WBt",
        "outputId": "79db1dec-929d-4a50-8ab1-3636cb0378cf"
      },
      "execution_count": 11,
      "outputs": [
        {
          "output_type": "stream",
          "name": "stdout",
          "text": [
            "🔗 VINCULANDO OBSERVACIONES CON METADATOS...\n",
            "✅ VINCULACIÓN COMPLETADA:\n",
            "   • Objetos procesados: 1,364\n",
            "   • Observaciones vinculadas: 10,046,122\n",
            "   • Verificación: True\n",
            "\n",
            "📋 MUESTRA DATOS VINCULADOS:\n",
            "                  SNID         MJD BAND  MAG_AB  REDSHIFT_FINAL\n",
            "0  b'1               '  60981.3241    Y     NaN        0.444463\n",
            "1  b'1               '  60990.2333    Y     NaN        0.444463\n",
            "2  b'1               '  60990.2336    Y     NaN        0.444463\n",
            "3  b'1               '  60991.2814    g     NaN        0.444463\n",
            "4  b'1               '  60991.2818    g     NaN        0.444463\n"
          ]
        }
      ]
    },
    {
      "cell_type": "markdown",
      "source": [
        "#EDA"
      ],
      "metadata": {
        "id": "7FhjfeLYgYoC"
      }
    },
    {
      "cell_type": "markdown",
      "source": [
        "## Analisis estadistico basico"
      ],
      "metadata": {
        "id": "x7GEJ4sPfebB"
      }
    },
    {
      "cell_type": "code",
      "source": [
        "print(\"📊 ANÁLISIS ESTADÍSTICO BÁSICO:\")\n",
        "\n",
        "# Estadísticas generales\n",
        "print(f\"\\n🎯 ESTADÍSTICAS GENERALES:\")\n",
        "print(f\"   • Objetos AGN: {len(head_df):,}\")\n",
        "print(f\"   • Observaciones totales: {len(linked_df):,}\")\n",
        "print(f\"   • Observaciones/objeto: {len(linked_df)/len(head_df):.1f}\")\n",
        "\n",
        "# Estadísticas por banda\n",
        "print(f\"\\n🎯 ESTADÍSTICAS POR BANDA:\")\n",
        "band_stats = linked_df.groupby('BAND').agg({\n",
        "    'MAG_AB': ['count', 'mean', 'std', 'min', 'max'],\n",
        "    'FLUX_uJy': ['mean', 'std']\n",
        "}).round(3)\n",
        "print(band_stats)\n",
        "\n",
        "# Estadísticas de redshift\n",
        "print(f\"\\n🎯 ESTADÍSTICAS REDSHIFT:\")\n",
        "redshift_stats = head_df['REDSHIFT_FINAL'].describe()\n",
        "print(redshift_stats)\n",
        "\n",
        "# Distribución de tipos\n",
        "print(f\"\\n🎯 DISTRIBUCIÓN DE TIPOS SN:\")\n",
        "type_counts = head_df['SNTYPE'].value_counts().sort_index()\n",
        "for sn_type, count in type_counts.items():\n",
        "    print(f\"   • SNTYPE {sn_type}: {count} objetos\")\n",
        "\n",
        "print(f\"\\n📈 RESUMEN CALIDAD:\")\n",
        "valid_obs = (linked_df['FLUXCAL'] > 0).sum()\n",
        "print(f\"   • Observaciones válidas: {valid_obs:,}/{len(linked_df):,} ({valid_obs/len(linked_df)*100:.1f}%)\")\n",
        "print(f\"   • Bandas con datos: {len(linked_df['BAND'].unique())}\")"
      ],
      "metadata": {
        "colab": {
          "base_uri": "https://localhost:8080/"
        },
        "id": "sGJB2m_G7wPq",
        "outputId": "416fc545-0e0d-4c58-da5b-3e0d718f545a"
      },
      "execution_count": 12,
      "outputs": [
        {
          "output_type": "stream",
          "name": "stdout",
          "text": [
            "📊 ANÁLISIS ESTADÍSTICO BÁSICO:\n",
            "\n",
            "🎯 ESTADÍSTICAS GENERALES:\n",
            "   • Objetos AGN: 1,364\n",
            "   • Observaciones totales: 10,046,122\n",
            "   • Observaciones/objeto: 7365.2\n",
            "\n",
            "🎯 ESTADÍSTICAS POR BANDA:\n",
            "       MAG_AB                                FLUX_uJy       \n",
            "        count    mean    std     min     max     mean    std\n",
            "BAND                                                        \n",
            "-           0     NaN    NaN     NaN     NaN  -28.211  0.000\n",
            "Y      565935  24.042  1.398  19.518  38.811    0.213  3.397\n",
            "g      277640  24.991  1.580  19.655  37.265    0.174  2.572\n",
            "i     1714598  24.830  1.563  19.739  40.031    0.197  2.907\n",
            "r      678194  24.942  1.573  19.666  38.856    0.194  2.677\n",
            "u      457077  24.819  1.528  19.711  38.178    0.165  2.399\n",
            "z     1548083  24.542  1.509  19.582  40.652    0.232  3.198\n",
            "\n",
            "🎯 ESTADÍSTICAS REDSHIFT:\n",
            "count    1364.000000\n",
            "mean        0.749564\n",
            "std         0.609898\n",
            "min         0.078781\n",
            "25%         0.332229\n",
            "50%         0.559412\n",
            "75%         0.862438\n",
            "max         3.987175\n",
            "Name: REDSHIFT_FINAL, dtype: float64\n",
            "\n",
            "🎯 DISTRIBUCIÓN DE TIPOS SN:\n",
            "   • SNTYPE 0: 1364 objetos\n",
            "\n",
            "📈 RESUMEN CALIDAD:\n",
            "   • Observaciones válidas: 5,241,527/10,046,122 (52.2%)\n",
            "   • Bandas con datos: 7\n"
          ]
        }
      ]
    },
    {
      "cell_type": "markdown",
      "source": [
        "## Analisis de distribucion espacial"
      ],
      "metadata": {
        "id": "tcUZsC5Vat4M"
      }
    },
    {
      "cell_type": "code",
      "source": [
        "print(\"🗺️ ANALIZANDO DISTRIBUCIÓN ESPACIAL...\")\n",
        "\n",
        "# Crear árbol espacial\n",
        "coords = head_df[['rad_dec', 'rad_ra']].values\n",
        "tree = BallTree(coords, metric='haversine')\n",
        "\n",
        "# Configurar HEALPix\n",
        "nside = 64\n",
        "npix = hp.nside2npix(nside)\n",
        "\n",
        "# Contar objetos por píxel\n",
        "ipix = np.arange(npix)\n",
        "hp_ra, hp_dec = np.radians(hp.pix2ang(nside, ipix, lonlat=True))\n",
        "\n",
        "n_objects_per_pixel = tree.query_radius(\n",
        "    np.column_stack([hp_dec, hp_ra]),\n",
        "    r=np.radians(2.0),\n",
        "    count_only=True\n",
        ")\n",
        "\n",
        "# Crear y visualizar mapa\n",
        "sky_map = np.zeros(npix)\n",
        "sky_map[ipix] = n_objects_per_pixel\n",
        "\n",
        "plt.figure(figsize=(12, 6))\n",
        "hp.mollview(sky_map, title=\"Distribución Espacial de AGN\", unit=\"N AGN\", min=0)\n",
        "hp.graticule()\n",
        "plt.show()\n",
        "\n",
        "# Estadísticas espaciales\n",
        "populated_pixels = np.sum(n_objects_per_pixel > 0)\n",
        "total_area_deg2 = hp.nside2pixarea(nside, degrees=True) * populated_pixels\n",
        "\n",
        "print(\"✅ ANÁLISIS ESPACIAL COMPLETADO:\")\n",
        "print(f\"   • Píxeles con AGN: {populated_pixels:,}\")\n",
        "print(f\"   • Área cubierta: {total_area_deg2:.1f} grados²\")\n",
        "print(f\"   • Densidad: {len(head_df)/total_area_deg2:.2f} AGN/grado²\")\n",
        "print(f\"   • AGN más aislado: {np.max(n_objects_per_pixel)} por píxel\")"
      ],
      "metadata": {
        "colab": {
          "base_uri": "https://localhost:8080/",
          "height": 657
        },
        "id": "TX5miOmy7-dt",
        "outputId": "d8b4ac65-3858-43c9-c073-535d86766019"
      },
      "execution_count": 13,
      "outputs": [
        {
          "output_type": "stream",
          "name": "stdout",
          "text": [
            "🗺️ ANALIZANDO DISTRIBUCIÓN ESPACIAL...\n"
          ]
        },
        {
          "output_type": "display_data",
          "data": {
            "text/plain": [
              "<Figure size 1200x600 with 0 Axes>"
            ]
          },
          "metadata": {}
        },
        {
          "output_type": "display_data",
          "data": {
            "text/plain": [
              "<Figure size 850x540 with 2 Axes>"
            ],
            "image/png": "[encoded data removed]"
          },
          "metadata": {}
        },
        {
          "output_type": "stream",
          "name": "stdout",
          "text": [
            "✅ ANÁLISIS ESPACIAL COMPLETADO:\n",
            "   • Píxeles con AGN: 308\n",
            "   • Área cubierta: 258.5 grados²\n",
            "   • Densidad: 5.28 AGN/grado²\n",
            "   • AGN más aislado: 237 por píxel\n"
          ]
        }
      ]
    },
    {
      "cell_type": "markdown",
      "source": [
        "## Analisis de redshifts"
      ],
      "metadata": {
        "id": "1k53udQzgfI4"
      }
    },
    {
      "cell_type": "markdown",
      "source": [
        "### Histograma de redshift final para AGN"
      ],
      "metadata": {
        "id": "GwWGZnYkfpzV"
      }
    },
    {
      "cell_type": "code",
      "source": [
        "print(\"📊 GENERANDO HISTOGRAMA DE REDSHIFT_FINAL...\")\n",
        "\n",
        "# Use the actual column name 'REDSHIFT_FINAL'\n",
        "redshift_column = 'REDSHIFT_FINAL'\n",
        "\n",
        "if redshift_column in head_df.columns:\n",
        "    plt.figure(figsize=(10, 6))\n",
        "\n",
        "    # Histograma de redshifts detectados\n",
        "    n, bins, patches = plt.hist(\n",
        "        head_df[redshift_column],\n",
        "        bins=50,\n",
        "        density=True,\n",
        "        alpha=0.7,\n",
        "        color='red',\n",
        "        edgecolor='black',\n",
        "        linewidth=0.5\n",
        "    )\n",
        "\n",
        "    # Línea vertical con redshift máximo\n",
        "    max_redshift = head_df[redshift_column].max()\n",
        "    plt.axvline(max_redshift, color='blue', linestyle='--', linewidth=2,\n",
        "                label=f'Redshift máximo: {max_redshift:.3f}')\n",
        "\n",
        "    # Estadísticas\n",
        "    mean_redshift = head_df[redshift_column].mean()\n",
        "    median_redshift = head_df[redshift_column].median()\n",
        "    plt.axvline(mean_redshift, color='green', linestyle=':', linewidth=2,\n",
        "                label=f'Redshift medio: {mean_redshift:.3f}')\n",
        "\n",
        "    plt.xlabel('Redshift', fontsize=12)\n",
        "    plt.ylabel('Densidad', fontsize=12)\n",
        "    plt.title(f'Distribución de Redshifts Detectados - AGN\\n({len(head_df):,} objetos)',\n",
        "              fontsize=14, fontweight='bold')\n",
        "    plt.legend()\n",
        "    plt.grid(True, alpha=0.3)\n",
        "\n",
        "    # Añadir texto con estadísticas\n",
        "    stats_text = f'''Estadísticas:\n",
        "• Objetos: {len(head_df):,}\n",
        "• Redshift máximo: {max_redshift:.3f}\n",
        "• Redshift medio: {mean_redshift:.3f}\n",
        "• Redshift mediano: {median_redshift:.3f}\n",
        "• Desviación estándar: {head_df[redshift_column].std():.3f}'''\n",
        "\n",
        "    plt.annotate(stats_text, xy=(0.02, 0.98), xycoords='axes fraction',\n",
        "                 verticalalignment='top', fontsize=10,\n",
        "                 bbox=dict(boxstyle=\"round,pad=0.3\", facecolor=\"white\", alpha=0.8))\n",
        "\n",
        "    plt.tight_layout()\n",
        "    plt.show()\n",
        "\n",
        "    print(\"✅ Histograma de redshift_final generado\")\n",
        "else:\n",
        "    print(f\"❌ Columna {redshift_column} no encontrada en HEAD\")"
      ],
      "metadata": {
        "colab": {
          "base_uri": "https://localhost:8080/",
          "height": 631
        },
        "id": "7DwYcgeqU6XW",
        "outputId": "24bdcf9e-c76c-4080-b00a-1a16a8f00860"
      },
      "execution_count": 14,
      "outputs": [
        {
          "output_type": "stream",
          "name": "stdout",
          "text": [
            "📊 GENERANDO HISTOGRAMA DE REDSHIFT_FINAL...\n"
          ]
        },
        {
          "output_type": "display_data",
          "data": {
            "text/plain": [
              "<Figure size 1000x600 with 1 Axes>"
            ],
            "image/png": "[encoded data removed]"
          },
          "metadata": {}
        },
        {
          "output_type": "stream",
          "name": "stdout",
          "text": [
            "✅ Histograma de redshift_final generado\n"
          ]
        }
      ]
    },
    {
      "cell_type": "markdown",
      "source": [
        "### Histograma comparativo ZCMB- Simulado vs detectado"
      ],
      "metadata": {
        "id": "lWTln-WVfuoM"
      }
    },
    {
      "cell_type": "code",
      "source": [
        "print(\"📊 GENERANDO HISTOGRAMA COMPARATIVO ZCMB...\")\n",
        "\n",
        "# Buscar columnas ZCMB en DUMP\n",
        "zcmb_cols = [col for col in dump_df.columns if 'ZCMB' in col.upper()]\n",
        "sim_zcmb_col = zcmb_cols[0] if zcmb_cols else sim_z_col\n",
        "\n",
        "if sim_zcmb_col and not dump_df.empty:\n",
        "    # Crear máscara para eventos detectados\n",
        "    detected_mask = dump_df.index.isin(head_df.index)\n",
        "\n",
        "    plt.figure(figsize=(12, 8))\n",
        "\n",
        "    # Histograma de todos los eventos simulados\n",
        "    plt.hist(\n",
        "        dump_df[sim_zcmb_col],\n",
        "        bins=35,\n",
        "        color='black',\n",
        "        histtype='step',\n",
        "        linewidth=2,\n",
        "        label='Todos los eventos simulados',\n",
        "        log=True\n",
        "    )\n",
        "\n",
        "    # Histograma de eventos detectados\n",
        "    if detected_mask.any():\n",
        "        plt.hist(\n",
        "            dump_df[detected_mask][sim_zcmb_col],\n",
        "            bins=40,\n",
        "        color='red',\n",
        "        alpha=0.7,\n",
        "        label='Eventos detectados',\n",
        "        log=True\n",
        "    )\n",
        "\n",
        "    plt.xlabel(f'Redshift CMB ({sim_zcmb_col})', fontsize=12)\n",
        "    plt.ylabel('Frecuencia (log)', fontsize=12)\n",
        "    plt.title('Distribución de Redshifts CMB - AGN\\n(Simulado vs Detectado)',\n",
        "              fontsize=14, fontweight='bold')\n",
        "    plt.legend()\n",
        "    plt.grid(True, alpha=0.3)\n",
        "\n",
        "    # Añadir estadísticas\n",
        "    if detected_mask.any():\n",
        "        stats_text = f'''Estadísticas:\n",
        "• Simulados: {len(dump_df):,}\n",
        "• Detectados: {detected_mask.sum():,}\n",
        "• Eficiencia: {detected_mask.sum()/len(dump_df)*100:.1f}%\n",
        "• z_max simulado: {dump_df[sim_zcmb_col].max():.3f}\n",
        "• z_max detectado: {dump_df[detected_mask][sim_zcmb_col].max():.3f}'''\n",
        "\n",
        "        plt.annotate(stats_text, xy=(0.02, 0.98), xycoords='axes fraction',\n",
        "                     verticalalignment='top', fontsize=10,\n",
        "                     bbox=dict(boxstyle=\"round,pad=0.3\", facecolor=\"white\", alpha=0.8))\n",
        "\n",
        "    plt.tight_layout()\n",
        "    plt.show()\n",
        "\n",
        "    print(\"✅ Histograma comparativo ZCMB generado\")\n",
        "\n",
        "    # Calcular eficiencia por bin de redshift\n",
        "    if detected_mask.any():\n",
        "        print(f\"\\n📈 EFICIENCIA POR BIN DE REDSHIFT:\")\n",
        "        z_bins = np.linspace(0, dump_df[sim_zcmb_col].max(), 6)\n",
        "        for i in range(len(z_bins)-1):\n",
        "            bin_mask = (dump_df[sim_zcmb_col] >= z_bins[i]) & (dump_df[sim_zcmb_col] < z_bins[i+1])\n",
        "            bin_detected = detected_mask & bin_mask\n",
        "            efficiency = bin_detected.sum() / bin_mask.sum() * 100 if bin_mask.sum() > 0 else 0\n",
        "            print(f\"   • z = [{z_bins[i]:.2f}, {z_bins[i+1]:.2f}): {efficiency:.1f}%\")\n",
        "\n",
        "else:\n",
        "    print(\"❌ No se puede generar histograma - faltan datos de ZCMB\")"
      ],
      "metadata": {
        "colab": {
          "base_uri": "https://localhost:8080/",
          "height": 818
        },
        "id": "sv_mBVcRXQfM",
        "outputId": "f6080068-587f-49c0-ef32-bbf3f0e292d6"
      },
      "execution_count": 15,
      "outputs": [
        {
          "output_type": "stream",
          "name": "stdout",
          "text": [
            "📊 GENERANDO HISTOGRAMA COMPARATIVO ZCMB...\n"
          ]
        },
        {
          "output_type": "display_data",
          "data": {
            "text/plain": [
              "<Figure size 1200x800 with 1 Axes>"
            ],
            "image/png": "[encoded data removed]"
          },
          "metadata": {}
        },
        {
          "output_type": "stream",
          "name": "stdout",
          "text": [
            "✅ Histograma comparativo ZCMB generado\n",
            "\n",
            "📈 EFICIENCIA POR BIN DE REDSHIFT:\n",
            "   • z = [0.00, 0.80): 68.7%\n",
            "   • z = [0.80, 1.59): 65.4%\n",
            "   • z = [1.59, 2.39): 70.9%\n",
            "   • z = [2.39, 3.19): 67.9%\n",
            "   • z = [3.19, 3.99): 60.9%\n"
          ]
        }
      ]
    },
    {
      "cell_type": "markdown",
      "source": [
        "**Redshift Detectado (o Redshift Observado):**\n",
        "\n",
        "Este es el redshift que medimos directamente a partir de la luz que nos llega de un objeto astronómico (como un SLSN-I, una galaxia, un cuásar, etc.).\n",
        "\n",
        "Se determina observando el espectro de la luz del objeto y midiendo cuánto se han desplazado las líneas espectrales conocidas (líneas de emisión o absorción de elementos químicos) hacia longitudes de onda más largas (el lado rojo del espectro) en comparación con sus posiciones en el laboratorio.\n",
        "\n",
        "Este desplazamiento es causado por una combinación de factores:\n",
        "\n",
        "*La expansión del universo:*  Este es el componente principal y el más interesante para los cosmólogos, ya que nos dice qué tan lejos está el objeto y cuánto tiempo ha viajado su luz.\n",
        "\n",
        "*El movimiento peculiar del objeto:* El movimiento real del objeto a través del espacio, además de la expansión del universo.\n",
        "\n",
        "*El movimiento peculiar de la Tierra/Observador:* El movimiento de nuestro propio planeta alrededor del Sol, dentro de la Vía Láctea y hacia el \"Gran Atractor\".\n",
        "\n",
        "El redshift detectado es, por lo tanto, una medida combinada de estas velocidades relativas.\n",
        "\n",
        "\n",
        "**Redshift CMB (Redshift en el Marco de Reposo del Fondo Cósmico de Microondas):**\n",
        "\n",
        "Este es un redshift corregido que intenta eliminar el efecto de los movimientos peculiares (tanto del objeto como del observador) para quedarse solo con el componente debido a la expansión pura del universo.\n",
        "\n",
        "Se calcula tomando el redshift detectado y restándole las contribuciones estimadas de los movimientos peculiares. Para el movimiento peculiar del observador, se usa la velocidad de nuestro Sistema Solar con respecto al marco de referencia del Fondo Cósmico de Microondas (CMB), que se considera el \"marco de reposo\" del universo a gran escala.\n",
        "\n",
        "El redshift CMB es particularmente útil en cosmología porque nos da una medida más directa de la distancia cosmológica del objeto, es decir, la distancia que se deriva únicamente de la expansión del espacio-tiempo.\n",
        "\n",
        "Las simulaciones a menudo generan el redshift simulado en el marco de reposo del CMB (ZCMB) porque este es el valor \"ideal\" que refleja la posición del objeto en el universo en expansión, antes de que se añadan los efectos de los movimientos locales y del observador."
      ],
      "metadata": {
        "id": "UCAYf-Z1Apuf"
      }
    },
    {
      "cell_type": "markdown",
      "source": [
        "### Resumen completo de analisis de redshifts"
      ],
      "metadata": {
        "id": "iehYGZc6f4et"
      }
    },
    {
      "cell_type": "code",
      "source": [
        "print(\"=\"*60)\n",
        "print(\"📊 RESUMEN COMPLETO - ANÁLISIS DE REDSHIFTS AGN\")\n",
        "print(\"=\"*60)\n",
        "\n",
        "if not dump_df.empty and sim_zcmb_col and 'REDSHIFT_FINAL' in head_df.columns:\n",
        "    # Estadísticas de detección\n",
        "    detected_mask = dump_df.index.isin(head_df.index)\n",
        "\n",
        "    print(f\"🎯 ESTADÍSTICAS DE DETECCIÓN:\")\n",
        "    print(f\"   • Eventos simulados totales: {len(dump_df):,}\")\n",
        "    print(f\"   • Eventos detectados: {detected_mask.sum():,}\")\n",
        "    print(f\"   • Eficiencia global: {detected_mask.sum()/len(dump_df)*100:.2f}%\")\n",
        "\n",
        "    print(f\"\\n📈 ESTADÍSTICAS DE REDSHIFT:\")\n",
        "    print(f\"   • Redshift máximo simulado: {dump_df[sim_zcmb_col].max():.3f}\")\n",
        "    print(f\"   • Redshift máximo detectado: {head_df['REDSHIFT_FINAL'].max():.3f}\")\n",
        "    print(f\"   • Redshift medio detectado: {head_df['REDSHIFT_FINAL'].mean():.3f}\")\n",
        "    print(f\"   • Redshift mediano detectado: {head_df['REDSHIFT_FINAL'].median():.3f}\")\n",
        "\n",
        "    # Eficiencia por rango de redshift\n",
        "    print(f\"\\n📊 EFICIENCIA POR RANGO DE REDSHIFT:\")\n",
        "    z_ranges = [(0, 0.5), (0.5, 1.0), (1.0, 1.5), (1.5, 2.0), (2.0, dump_df[sim_zcmb_col].max())]\n",
        "\n",
        "    for z_min, z_max in z_ranges:\n",
        "        if z_min < dump_df[sim_zcmb_col].max():\n",
        "            range_mask = (dump_df[sim_zcmb_col] >= z_min) & (dump_df[sim_zcmb_col] < z_max)\n",
        "            if range_mask.any():\n",
        "                range_detected = detected_mask & range_mask\n",
        "                efficiency = range_detected.sum() / range_mask.sum() * 100\n",
        "                n_sim = range_mask.sum()\n",
        "                n_det = range_detected.sum()\n",
        "                print(f\"   • z [{z_min:.1f}, {z_max:.1f}): {n_det}/{n_sim} = {efficiency:.1f}%\")\n",
        "\n",
        "    print(f\"\\n✅ ANÁLISIS DE REDSHIFTS COMPLETADO\")\n",
        "else:\n",
        "    print(\"❌ No se pudo completar el análisis - faltan datos esenciales\")"
      ],
      "metadata": {
        "colab": {
          "base_uri": "https://localhost:8080/"
        },
        "id": "WK2KsfkcX0LH",
        "outputId": "f34f7d09-e72e-4bb0-ad3a-4c00ab7a2a04"
      },
      "execution_count": 16,
      "outputs": [
        {
          "output_type": "stream",
          "name": "stdout",
          "text": [
            "============================================================\n",
            "📊 RESUMEN COMPLETO - ANÁLISIS DE REDSHIFTS AGN\n",
            "============================================================\n",
            "🎯 ESTADÍSTICAS DE DETECCIÓN:\n",
            "   • Eventos simulados totales: 2,000\n",
            "   • Eventos detectados: 1,364\n",
            "   • Eficiencia global: 68.20%\n",
            "\n",
            "📈 ESTADÍSTICAS DE REDSHIFT:\n",
            "   • Redshift máximo simulado: 3.987\n",
            "   • Redshift máximo detectado: 3.987\n",
            "   • Redshift medio detectado: 0.750\n",
            "   • Redshift mediano detectado: 0.559\n",
            "\n",
            "📊 EFICIENCIA POR RANGO DE REDSHIFT:\n",
            "   • z [0.0, 0.5): 660/978 = 67.5%\n",
            "   • z [0.5, 1.0): 453/646 = 70.1%\n",
            "   • z [1.0, 1.5): 83/130 = 63.8%\n",
            "   • z [1.5, 2.0): 73/110 = 66.4%\n",
            "   • z [2.0, 4.0): 94/135 = 69.6%\n",
            "\n",
            "✅ ANÁLISIS DE REDSHIFTS COMPLETADO\n"
          ]
        }
      ]
    },
    {
      "cell_type": "markdown",
      "source": [
        "## Numero de detecciones por AGN"
      ],
      "metadata": {
        "id": "YWZOgZd3gEEB"
      }
    },
    {
      "cell_type": "code",
      "source": [
        "print(\"📊 ANALIZANDO Y GRAFICANDO NÚMERO DE DETECCIONES POR AGN...\")\n",
        "\n",
        "# Fundamento Astronómico:\n",
        "# El número de detecciones para un objeto astronómico, especialmente un transiente como un AGN,\n",
        "# es crucial para caracterizar su comportamiento a lo largo del tiempo. Un mayor número de\n",
        "# detecciones a menudo implica una curva de luz mejor muestreada, lo que permite una mejor\n",
        "# determinación de propiedades como la magnitud máxima, la duración del evento y los parámetros\n",
        "# de variabilidad.\n",
        "#\n",
        "# Las detecciones con flujo negativo (FLUX_uJy < 0) son un indicador importante de ruido\n",
        "# o problemas en el fondo del cielo (sky subtraction). Analizar su frecuencia y distribución\n",
        "# nos ayuda a evaluar la calidad de la fotometría y a identificar posibles limitaciones\n",
        "# en la capacidad de detección, especialmente para objetos débiles. Una alta tasa de\n",
        "# detecciones con flujo negativo puede sugerir que el límite de detección es demasiado somero\n",
        "# o que hay problemas sistemáticos en el procesamiento de las imágenes.\n",
        "\n",
        "if not head_df.empty and not phot_df.empty:\n",
        "    # Listas para almacenar el número de detecciones\n",
        "    n_detecciones = []\n",
        "    n_neg_flux = []\n",
        "\n",
        "    print(f\"Procesando {len(head_df)} objetos AGN...\")\n",
        "\n",
        "    # Iterar sobre cada objeto SLSN-I en el DataFrame de metadatos (head_df)\n",
        "    for index, obj_meta in head_df.iterrows():\n",
        "        # Extraer el rango de observaciones para este objeto usando PTROBS_MIN y PTROBS_MAX\n",
        "        # Restamos 1 a PTROBS_MIN porque los índices de pandas son base 0,\n",
        "        # mientras que PTROBS_MIN/MAX en SNANA suelen ser base 1.\n",
        "        # Aseguramos que los valores de índice son válidos para el DataFrame phot_df\n",
        "        first_obs_idx = obj_meta['PTROBS_MIN'] - 1\n",
        "        last_obs_idx = obj_meta['PTROBS_MAX']\n",
        "\n",
        "        # Seleccionar las observaciones correspondientes a este objeto\n",
        "        # Usamos iloc para seleccionar por índice de posición\n",
        "        obj_obs = phot_df.iloc[first_obs_idx : last_obs_idx + 1]\n",
        "\n",
        "        # Filtrar observaciones consideradas \"detecciones\"\n",
        "        # Según la documentación de SNANA, PHOTFLAG = 4096 o 6144 indican una detección.\n",
        "        # PHOTFLAG = 4096: Detection\n",
        "        # PHOTFLAG = 6144: Detection (with some flag, e.g., saturated pixel)\n",
        "        # Consideramos ambas como \"detecciones\" en este contexto.\n",
        "        detections = obj_obs[(obj_obs['PHOTFLAG'] == 4096) | (obj_obs['PHOTFLAG'] == 6144)].copy()\n",
        "\n",
        "        # Contar el número total de detecciones para este objeto\n",
        "        n_detecciones.append(len(detections))\n",
        "\n",
        "        # Contar el número de detecciones con flujo negativo\n",
        "        neg_detections = detections[detections['FLUX_uJy'] < 0]\n",
        "        n_neg_flux.append(len(neg_detections))\n",
        "\n",
        "    # Convertir las listas a Series de pandas para facilitar el ploteo\n",
        "    detections_series = pd.Series(n_detecciones, index=head_df.index)\n",
        "    neg_flux_series = pd.Series(n_neg_flux, index=head_df.index)\n",
        "\n",
        "    print(\"Generando histogramas...\")\n",
        "\n",
        "    # Crear figura y ejes para los histogramas\n",
        "    fig, ax = plt.subplots(figsize=(10, 6))\n",
        "\n",
        "    # Histograma del número total de detecciones\n",
        "    detections_series.hist(bins=30, density=False, ax=ax, grid=False, color='r', log=True, label='Total Detecciones')\n",
        "\n",
        "    # Histograma del número de detecciones con flujo negativo (como un paso)\n",
        "    # Usamos bins similares para una comparación visual más fácil\n",
        "    neg_flux_series.hist(bins=30, ax=ax, grid=False, color='k', log=True, histtype='step', label='Detecciones con Flujo Negativo')\n",
        "\n",
        "\n",
        "    # Configurar título y etiquetas del gráfico\n",
        "    ax.set_title('Distribución del Número de Detecciones por AGN', size='large', y=1.0)\n",
        "    ax.set_xlabel('Número de Detecciones', size='large')\n",
        "    ax.set_ylabel('Frecuencia (escala logarítmica)', size='large')\n",
        "    ax.legend() # Mostrar la leyenda para identificar los histogramas\n",
        "\n",
        "    # Ajustar diseño y mostrar el gráfico\n",
        "    plt.tight_layout()\n",
        "    plt.show()\n",
        "\n",
        "    print(\"✅ Análisis y gráfico de número de detecciones completado.\")\n",
        "\n",
        "    # Opcional: Imprimir algunas estadísticas resumen\n",
        "    print(\"\\n=== ESTADÍSTICAS DE DETECCIONES ===\")\n",
        "    print(f\"Número promedio de detecciones por AGN: {detections_series.mean():.2f}\")\n",
        "    print(f\"Número promedio de detecciones con flujo negativo por AGN: {neg_flux_series.mean():.2f}\")\n",
        "    print(f\"AGN con más detecciones: {detections_series.max():.0f}\")\n",
        "    print(f\"AGN con más detecciones de flujo negativo: {neg_flux_series.max():.0f}\")\n",
        "\n",
        "\n",
        "else:\n",
        "    print(\"❌ No se pueden realizar análisis - head_df o phot_df están vacíos.\")"
      ],
      "metadata": {
        "colab": {
          "base_uri": "https://localhost:8080/",
          "height": 771
        },
        "id": "zGFX6LxIX0Ic",
        "outputId": "5ce2c878-dab8-4d29-dc37-e89641745c2c"
      },
      "execution_count": 17,
      "outputs": [
        {
          "output_type": "stream",
          "name": "stdout",
          "text": [
            "📊 ANALIZANDO Y GRAFICANDO NÚMERO DE DETECCIONES POR AGN...\n",
            "Procesando 1364 objetos AGN...\n",
            "Generando histogramas...\n"
          ]
        },
        {
          "output_type": "display_data",
          "data": {
            "text/plain": [
              "<Figure size 1000x600 with 1 Axes>"
            ],
            "image/png": "[encoded data removed]"
          },
          "metadata": {}
        },
        {
          "output_type": "stream",
          "name": "stdout",
          "text": [
            "✅ Análisis y gráfico de número de detecciones completado.\n",
            "\n",
            "=== ESTADÍSTICAS DE DETECCIONES ===\n",
            "Número promedio de detecciones por AGN: 1078.26\n",
            "Número promedio de detecciones con flujo negativo por AGN: 474.38\n",
            "AGN con más detecciones: 24388\n",
            "AGN con más detecciones de flujo negativo: 24293\n"
          ]
        }
      ]
    },
    {
      "cell_type": "markdown",
      "source": [
        "## Histograma de magnitudes contrastado"
      ],
      "metadata": {
        "id": "plBB8ImlgVlg"
      }
    },
    {
      "cell_type": "markdown",
      "source": [
        "Los histogramas de magnitud son herramientas esenciales en astronomía para visualizar la distribución de brillo de una población de objetos. Contrastar la distribución de magnitudes de todas las observaciones con la de las observaciones *detectadas* es fundamental para entender los sesgos de selección de un relevamiento.\n",
        "\n",
        "La distribución de todas las observaciones (simuladas o reales) nos da una idea de la población intrínseca y la contribución del ruido. La distribución de las observaciones *detectadas*, por otro lado, muestra qué parte de esa población es efectivamente visible con los criterios de detección aplicados. La diferencia entre ambas distribuciones revela la \"función de selección\" del relevamiento, mostrando a qué magnitudes se vuelve incompleto o incapaz de detectar objetos.\n",
        "\n",
        "Se espera ver que las detecciones se concentran en magnitudes más brillantes (valores de MAG_AB menores) en comparación con todas las observaciones, que pueden extenderse a magnitudes mucho más débiles (valores de MAG_AB mayores), a menudo dominadas por el ruido. La escala logarítmica en la frecuencia para las detecciones es útil para visualizar la cola de objetos más débiles detectados."
      ],
      "metadata": {
        "id": "rZR3-FLmhcBV"
      }
    },
    {
      "cell_type": "code",
      "source": [
        "print(\"📊 GENERANDO HISTOGRAMA DE MAGNITUDES CONTRASTADO...\")\n",
        "\n",
        "if not phot_df.empty and 'MAG_AB' in phot_df.columns and 'PHOTFLAG' in phot_df.columns:\n",
        "    # Crear figura y ejes para el histograma\n",
        "    fig, ax = plt.subplots(figsize=(10, 6))\n",
        "\n",
        "    # Histograma de todas las observaciones (con magnitud válida)\n",
        "    # Filtramos los NaN en MAG_AB para el histograma\n",
        "    all_magnitudes = phot_df['MAG_AB'].dropna()\n",
        "    if not all_magnitudes.empty:\n",
        "        all_magnitudes.hist(bins=60, density=False, ax=ax, grid=False, color='r', alpha=0.7, label='Todas las observaciones')\n",
        "\n",
        "    # Filtrar observaciones consideradas \"detecciones\"\n",
        "    # Según la documentación de SNANA, PHOTFLAG = 4096 o 6144 indican una detección.\n",
        "    detections_df = phot_df[(phot_df['PHOTFLAG'] == 4096) | (phot_df['PHOTFLAG'] == 6144)].copy()\n",
        "\n",
        "    # Histograma de magnitudes de las detecciones (con magnitud válida)\n",
        "    detected_magnitudes = detections_df['MAG_AB'].dropna()\n",
        "    if not detected_magnitudes.empty:\n",
        "        # Usamos los mismos bins para consistencia visual\n",
        "        detected_magnitudes.hist(bins=60, density=False, ax=ax, grid=False, color='b', alpha=0.7, log=True, label='Observaciones Detectadas')\n",
        "\n",
        "\n",
        "    # Configurar título y etiquetas\n",
        "    ax.set_title('Distribución de Magnitudes AB - TDE (Todas las Obs. vs. Detectadas)', size='large')\n",
        "    ax.set_xlabel('Magnitud AB', size='large')\n",
        "    ax.set_ylabel('Frecuencia', size='large') # Density=False means raw counts\n",
        "\n",
        "    ax.legend()\n",
        "    ax.grid(False) # Disable grid as in example\n",
        "    # ax.invert_xaxis() # Magnitudes: más brillante = menor valor, so invert x-axis ***preguntar\n",
        "\n",
        "    plt.tight_layout()\n",
        "    plt.show()\n",
        "\n",
        "    print(\"✅ Histograma de magnitudes contrastado generado.\")\n",
        "\n",
        "else:\n",
        "    print(\"❌ No se pueden generar gráficos - phot_df vacío o faltan columnas esenciales ('MAG_AB', 'PHOTFLAG').\")"
      ],
      "metadata": {
        "colab": {
          "base_uri": "https://localhost:8080/",
          "height": 631
        },
        "id": "P--8cunmX0FJ",
        "outputId": "eab87c0b-f4e3-465a-cfe1-fd3bcdcdc6b0"
      },
      "execution_count": 18,
      "outputs": [
        {
          "output_type": "stream",
          "name": "stdout",
          "text": [
            "📊 GENERANDO HISTOGRAMA DE MAGNITUDES CONTRASTADO...\n"
          ]
        },
        {
          "output_type": "display_data",
          "data": {
            "text/plain": [
              "<Figure size 1000x600 with 1 Axes>"
            ],
            "image/png": "[encoded data removed]"
          },
          "metadata": {}
        },
        {
          "output_type": "stream",
          "name": "stdout",
          "text": [
            "✅ Histograma de magnitudes contrastado generado.\n"
          ]
        }
      ]
    },
    {
      "cell_type": "markdown",
      "source": [
        "#Curvas de luz"
      ],
      "metadata": {
        "id": "SEp8Fgtxhqrr"
      }
    },
    {
      "cell_type": "code",
      "source": [
        "print(\"📈 GENERANDO CURVAS DE LUZ MEJORADAS...\")\n",
        "\n",
        "# Select 10 random objects\n",
        "n_objects_to_plot = 10\n",
        "if len(head_df) >= n_objects_to_plot:\n",
        "    # Select specific objects by SNID string\n",
        "    # Ensure 'SNID_str' is in head_df\n",
        "    if 'SNID_str' not in head_df.columns:\n",
        "        head_df['SNID_str'] = head_df['SNID'].str.decode('utf-8').str.strip()\n",
        "\n",
        "    # Create a list of SNIDs from 1 to 10 as strings\n",
        "    target_snids_str = [str(i) for i in range(1, n_objects_to_plot + 1)]\n",
        "\n",
        "    # Filter head_df for the target SNIDs\n",
        "    selected_objects_meta = head_df[head_df['SNID_str'].isin(target_snids_str)]\n",
        "\n",
        "    # Ensure the plotting order matches the target SNIDs if possible\n",
        "    # Create a dictionary for quick lookup of metadata by SNID string\n",
        "    meta_dict = selected_objects_meta.set_index('SNID_str').to_dict('index')\n",
        "    # Filter the target_snids_str list to only include those found in metadata\n",
        "    objects_to_plot_snids = [snid for snid in target_snids_str if snid in meta_dict]\n",
        "\n",
        "    n_objects_to_plot_actual = len(objects_to_plot_snids)\n",
        "\n",
        "    if n_objects_to_plot_actual > 0:\n",
        "        print(f\"🔍 Objetos seleccionados: {objects_to_plot_snids}\")\n",
        "\n",
        "        # Define bands and colors based on user example\n",
        "        bands = ['u', 'g','r','i', \"z\", \"Y\"]\n",
        "        colors = {'u':'#629fca','g':'#6abc6a','r':'#e26768', 'i':'#ffa557', 'z':'#ae8880', 'Y': 'k'}\n",
        "\n",
        "\n",
        "        # Configurar plot\n",
        "        # Adjusted figsize to make space for legends on the side\n",
        "        fig, axes = plt.subplots(n_objects_to_plot_actual, 1, figsize=(15, 3*n_objects_to_plot_actual), sharex=False)\n",
        "\n",
        "\n",
        "        # Ensure axes is an array even for a single subplot\n",
        "        if n_objects_to_plot_actual == 1:\n",
        "            axes = [axes]\n",
        "\n",
        "        # Ensure 'SNID_str' is in linked_df\n",
        "        if 'SNID_str' not in linked_df.columns:\n",
        "             linked_df['SNID_str'] = linked_df['SNID'].str.decode('utf-8').str.strip()\n",
        "\n",
        "        # Collect handles and labels for a single legend - Not needed anymore\n",
        "        # handles, labels = [], []\n",
        "\n",
        "        for i, snid_str in enumerate(objects_to_plot_snids):\n",
        "            # Get object data using the helper function\n",
        "            obj_data = linked_df[linked_df['SNID_str'] == snid_str].copy() # Use linked_df as it has SNID, RA, DEC, etc.\n",
        "\n",
        "            # Get metadata for title\n",
        "            obj_meta = meta_dict.get(snid_str)\n",
        "            if obj_meta is None:\n",
        "                 print(f\"Metadata not found for SNID: {snid_str}\")\n",
        "                 continue # Skip this object if metadata is missing\n",
        "\n",
        "            redshift = obj_meta['REDSHIFT_FINAL']\n",
        "            ra = obj_meta['RA']\n",
        "            dec = obj_meta['DEC']\n",
        "            # Assuming MWEBV is in head_df, adjust column name if necessary\n",
        "            mwebv = obj_meta.get('MWEBV', 'N/A') # Use .get to avoid error if MWEBV is missing\n",
        "\n",
        "\n",
        "            for band in bands: # Iterate through defined bands\n",
        "                band_data = obj_data[obj_data['BAND'] == band]\n",
        "\n",
        "                # Separate detected and non-detected observations based on PHOTFLAG\n",
        "                # PHOTFLAG = 4096 or 6144 for detections\n",
        "                # PHOTFLAG = 0 for non-detections\n",
        "                detected_band_data = band_data[(band_data['PHOTFLAG'] == 4096) | (band_data['PHOTFLAG'] == 6144)].copy()\n",
        "                non_detected_band_data = band_data[band_data['PHOTFLAG'] == 0].copy()\n",
        "\n",
        "\n",
        "                # Plot detected points (circles)\n",
        "                if not detected_band_data.empty:\n",
        "                    # Changed back to errorbar and removed unpacking for detected points\n",
        "                    axes[i].errorbar(\n",
        "                        detected_band_data['MJD'],\n",
        "                        detected_band_data['FLUX_uJy'],\n",
        "                        yerr=detected_band_data['FLUX_uJy_ERR'], # Added yerr back for detected points too\n",
        "                        label=f'{band} det',\n",
        "                        color=colors.get(band, 'gray'),\n",
        "                        marker='o',\n",
        "                        markersize=4,\n",
        "                        alpha=0.8,\n",
        "                        linestyle='None' # No line for scatter points\n",
        "                    )\n",
        "                    # Collect handle and label only once - Not needed anymore\n",
        "                    # if f'{band} det' not in labels:\n",
        "                    #     handles.append(line)\n",
        "                    #     labels.append(f'{band} det')\n",
        "\n",
        "\n",
        "                # Plot non-detected points (downward triangles) - Added yerr back and changed to errorbar\n",
        "                if not non_detected_band_data.empty:\n",
        "                     axes[i].errorbar(\n",
        "                        non_detected_band_data['MJD'],\n",
        "                        non_detected_band_data['FLUX_uJy'],\n",
        "                        yerr=non_detected_band_data['FLUX_uJy_ERR'],\n",
        "                        label=f'{band} non det',\n",
        "                        color=colors.get(band, 'gray'),\n",
        "                        marker='v', # downward triangle\n",
        "                        markersize=4,\n",
        "                        alpha=0.3, # reduced alpha for non-detections\n",
        "                        linestyle='None' # No line for scatter points\n",
        "                    )\n",
        "                     # Collect handle and label only once - Not needed anymore\n",
        "                     # if f'{band} non det' not in labels:\n",
        "                     #    handles.append(line)\n",
        "                     #    labels.append(f'{band} non det')\n",
        "\n",
        "\n",
        "            # snid_str = snid.decode() if isinstance(snid, bytes) else snid\n",
        "            axes[i].set_title(f'AGN: {snid_str} | RA={ra:.4f}, Dec={dec:.4f} |  z={redshift:.3f} | MWEBV={mwebv:.3f}' if isinstance(mwebv, (int, float)) else f'AGN: {snid_str} | RA={ra:.4f}, Dec={dec:.4f} | z={redshift:.3f} | MWEBV={mwebv}')\n",
        "            axes[i].set_ylabel('FLUX_uJy')\n",
        "            # Add legend outside the plot area\n",
        "            axes[i].legend(bbox_to_anchor=(1.05, 1), loc='upper left', borderaxespad=0.)\n",
        "            axes[i].grid(True, alpha=0.3)\n",
        "            axes[i].set_xlabel('MJD (Modified Julian Date)') # Set xlabel for each subplot\n",
        "\n",
        "\n",
        "        # Removed the common x-label\n",
        "        # axes[-1].set_xlabel('MJD (Modified Julian Date)')\n",
        "\n",
        "        # Removed the single figure legend\n",
        "        # fig.legend(handles, labels, loc='lower center', ncol=len(bands)*2, bbox_to_anchor=(0.5, -0.05))\n",
        "\n",
        "\n",
        "        plt.tight_layout()\n",
        "        plt.show()\n",
        "\n",
        "        print(\"✅ CURVAS DE LUZ MEJORADAS GENERADAS\")\n",
        "    else:\n",
        "         print(f\"❌ No se encontraron los SNID {target_snids_str} en los metadatos.\")\n",
        "\n",
        "else:\n",
        "    print(f\"❌ No se puede graficar porque el número de objetos ({len(head_df)}) es menor que el número solicitado ({n_objects_to_plot}).\")"
      ],
      "metadata": {
        "colab": {
          "base_uri": "https://localhost:8080/"
        },
        "id": "raH1HIOxXh8g",
        "outputId": "3890530f-34c6-4034-a6bf-13669ea1061d"
      },
      "execution_count": null,
      "outputs": [
        {
          "output_type": "stream",
          "name": "stdout",
          "text": [
            "📈 GENERANDO CURVAS DE LUZ MEJORADAS...\n",
            "🔍 Objetos seleccionados: ['1', '2', '7', '8', '9']\n"
          ]
        }
      ]
    },
    {
      "cell_type": "markdown",
      "source": [
        "## IDs de AGN detectados"
      ],
      "metadata": {
        "id": "7dcHH4LphwWI"
      }
    },
    {
      "cell_type": "code",
      "source": [
        "print(\"🔍 OBTENIENDO SNID DE AGN DETECTADOS...\")\n",
        "\n",
        "# Filtrar head_df para incluir solo los SNID presentes en linked_df\n",
        "# linked_df contiene solo los objetos con observaciones vinculadas (que provienen de head_df)\n",
        "# Un objeto en head_df se considera \"detectado\" en este contexto si tiene al menos una observación vinculada.\n",
        "detected_snids_bytes = linked_df['SNID'].unique()\n",
        "\n",
        "# Decodificar los SNID de bytes a string\n",
        "detected_snids_str = [snid.decode().strip() for snid in detected_snids_bytes]\n",
        "\n",
        "print(f\"✅ Se encontraron {len(detected_snids_str):,} SNID de AGN detectados.\")\n",
        "\n",
        "# Mostrar los primeros 10 SNID detectados\n",
        "print(\"\\n📋 Primeros 10 SNID detectados:\")\n",
        "print(detected_snids_str[:10])\n",
        "\n",
        "# Guardar la lista de SNID detectados en una variable para uso posterior\n",
        "detected_AGN_snids = detected_snids_str"
      ],
      "metadata": {
        "id": "73YNApclXh3M"
      },
      "execution_count": null,
      "outputs": []
    },
    {
      "cell_type": "markdown",
      "source": [
        "## Filtros exploratorios"
      ],
      "metadata": {
        "id": "SLQ0StoEh49G"
      }
    },
    {
      "cell_type": "markdown",
      "source": [
        "### Filtro para ver altos flujos"
      ],
      "metadata": {
        "id": "7NLbgZHSh8RZ"
      }
    },
    {
      "cell_type": "code",
      "source": [
        "print(\"🔍 Filtrando AGN detectados por flujo mínimo...\")\n",
        "\n",
        "# Definir el umbral de flujo en microJy\n",
        "flux_threshold_uJy = 20\n",
        "\n",
        "# Crear una lista para almacenar los SNID que cumplen el criterio\n",
        "snids_with_high_flux = []\n",
        "\n",
        "# Iterar sobre cada SNID en la lista de detectados\n",
        "# linked_df ya contiene solo los objetos detectados y sus observaciones vinculadas\n",
        "# Optimización: Agrupar linked_df por SNID para un acceso más rápido a las observaciones de cada objeto\n",
        "grouped_linked_df = linked_df.groupby('SNID')\n",
        "\n",
        "print(f\"Procesando {len(detected_AGN_snids)} AGN detectados...\")\n",
        "\n",
        "for snid_bytes in detected_snids_bytes: # Iterate over the original bytes list\n",
        "    # Get all observations for the current SNID\n",
        "    # Check if the SNID exists in the grouped DataFrame's keys before accessing\n",
        "    if snid_bytes in grouped_linked_df.groups:\n",
        "        obj_obs = grouped_linked_df.get_group(snid_bytes)\n",
        "\n",
        "        # Verificar si alguna observación para este SNID tiene FLUX_uJy > flux_threshold_uJy\n",
        "        if (obj_obs['FLUX_uJy'] > flux_threshold_uJy).any():\n",
        "            # Decodificar el SNID de bytes a string antes de añadirlo a la lista final\n",
        "            snids_with_high_flux.append(snid_bytes.decode().strip())\n",
        "\n",
        "\n",
        "print(f\"✅ Se encontraron {len(snids_with_high_flux):,} AGN con al menos una medición > {flux_threshold_uJy} μJy.\")\n",
        "\n",
        "# Mostrar los primeros 10 SNID filtrados\n",
        "print(\"\\n📋 Primeros 10 SNID con alto flujo:\")\n",
        "print(snids_with_high_flux[:10])\n",
        "\n",
        "# Guardar la lista filtrada en una nueva variable\n",
        "filtered_AGN_snids_high_flux = snids_with_high_flux"
      ],
      "metadata": {
        "id": "sTQLraVfBzNZ"
      },
      "execution_count": null,
      "outputs": []
    },
    {
      "cell_type": "code",
      "source": [
        "# =============================================================================\n",
        "# VISUALIZACIÓN DE CURVAS DE LUZ PARA AGN CON ALTO FLUJO\n",
        "# =============================================================================\n",
        "\n",
        "print(\"📈 GENERANDO CURVAS DE LUZ PARA AGN CON ALTO FLUJO...\")\n",
        "\n",
        "# Use the list of SNIDs filtered by high flux\n",
        "objects_to_plot_snids = filtered_AGN_snids_high_flux # Use the filtered list\n",
        "n_objects_to_plot = len(objects_to_plot_snids) # Update the count\n",
        "\n",
        "if n_objects_to_plot > 0:\n",
        "    # Get metadata for the selected objects based on their SNIDs\n",
        "    # Need to handle byte strings for SNID in head_df if not already done\n",
        "    if 'SNID_str' not in head_df.columns:\n",
        "        head_df['SNID_str'] = head_df['SNID'].str.decode('utf-8').str.strip()\n",
        "\n",
        "    selected_objects_meta = head_df[head_df['SNID_str'].isin(objects_to_plot_snids)]\n",
        "\n",
        "    # Ensure the plotting order matches the filtered list\n",
        "    # Create a dictionary for quick lookup of metadata by SNID string\n",
        "    meta_dict = selected_objects_meta.set_index('SNID_str').to_dict('index')\n",
        "\n",
        "    print(f\"🔍 Objetos seleccionados para plotear: {n_objects_to_plot}\")\n",
        "\n",
        "    # Define bands and colors based on previous example\n",
        "    bands = ['u', 'g','r','i', \"z\", \"Y\"]\n",
        "    colors = {'u':'#629fca','g':'#6abc6a','r':'#e26768', 'i':'#ffa557', 'z':'#ae8880', 'Y': 'k'}\n",
        "\n",
        "\n",
        "    # Configurar plot\n",
        "    # Adjusted figsize to make space for legends on the side\n",
        "    # Adjusted height based on the number of objects\n",
        "    fig, axes = plt.subplots(n_objects_to_plot, 1, figsize=(15, 3.5*n_objects_to_plot), sharex=False)\n",
        "\n",
        "\n",
        "    # Ensure axes is an array even for a single subplot\n",
        "    if n_objects_to_plot == 1:\n",
        "        axes = [axes]\n",
        "\n",
        "    # Iterate through the filtered SNIDs\n",
        "    for i, snid_str in enumerate(objects_to_plot_snids):\n",
        "        # Get object data using the helper function\n",
        "        # Filter linked_df using the string SNID\n",
        "        # Add 'SNID_str' to linked_df if not already present\n",
        "        if 'SNID_str' not in linked_df.columns:\n",
        "             linked_df['SNID_str'] = linked_df['SNID'].str.decode('utf-8').str.strip()\n",
        "\n",
        "        obj_data = linked_df[linked_df['SNID_str'] == snid_str].copy()\n",
        "\n",
        "        # Get metadata for title using the dictionary lookup\n",
        "        obj_meta = meta_dict.get(snid_str)\n",
        "        if obj_meta is None:\n",
        "             print(f\"Metadata not found for SNID: {snid_str}\")\n",
        "             continue # Skip this object if metadata is missing\n",
        "\n",
        "        redshift = obj_meta['REDSHIFT_FINAL']\n",
        "        ra = obj_meta['RA']\n",
        "        dec = obj_meta['DEC']\n",
        "        mwebv = obj_meta.get('MWEBV', 'N/A')\n",
        "\n",
        "\n",
        "        for band in bands: # Iterate through defined bands\n",
        "            band_data = obj_data[obj_data['BAND'] == band]\n",
        "\n",
        "            # Separate detected and non-detected observations based on PHOTFLAG\n",
        "            # PHOTFLAG = 4096 or 6144 for detections\n",
        "            # PHOTFLAG = 0 for non-detections\n",
        "            detected_band_data = band_data[(band_data['PHOTFLAG'] == 4096) | (band_data['PHOTFLAG'] == 6144)].copy()\n",
        "            non_detected_band_data = band_data[band_data['PHOTFLAG'] == 0].copy()\n",
        "\n",
        "\n",
        "            # Plot detected points (circles)\n",
        "            if not detected_band_data.empty:\n",
        "                axes[i].errorbar(\n",
        "                    detected_band_data['MJD'],\n",
        "                    detected_band_data['FLUX_uJy'],\n",
        "                    yerr=detected_band_data['FLUX_uJy_ERR'],\n",
        "                    label=f'{band} det',\n",
        "                    color=colors.get(band, 'gray'),\n",
        "                    marker='o',\n",
        "                    markersize=4,\n",
        "                    alpha=0.8,\n",
        "                    linestyle='None'\n",
        "                )\n",
        "\n",
        "\n",
        "            # Plot non-detected points (downward triangles)\n",
        "            if not non_detected_band_data.empty:\n",
        "                 axes[i].errorbar(\n",
        "                    non_detected_band_data['MJD'],\n",
        "                    non_detected_band_data['FLUX_uJy'],\n",
        "                    yerr=non_detected_band_data['FLUX_uJy_ERR'],\n",
        "                    label=f'{band} non det',\n",
        "                    color=colors.get(band, 'gray'),\n",
        "                    marker='v',\n",
        "                    markersize=4,\n",
        "                    alpha=0.3,\n",
        "                    linestyle='None'\n",
        "                )\n",
        "\n",
        "\n",
        "        axes[i].set_title(f'AGN: {snid_str} | RA={ra:.4f}, Dec={dec:.4f} |  z={redshift:.3f} | MWEBV={mwebv:.3f}' if isinstance(mwebv, (int, float)) else f'AGN: {snid_str} | RA={ra:.4f}, Dec={dec:.4f} | z={redshift:.3f} | MWEBV={mwebv}')\n",
        "        axes[i].set_ylabel('FLUX_uJy')\n",
        "        axes[i].legend(bbox_to_anchor=(1.05, 1), loc='upper left', borderaxespad=0.)\n",
        "        axes[i].grid(True, alpha=0.3)\n",
        "        axes[i].set_xlabel('MJD (Modified Julian Date)')\n",
        "\n",
        "\n",
        "    plt.tight_layout()\n",
        "    plt.show()\n",
        "\n",
        "    print(\"✅ CURVAS DE LUZ PARA AGN CON ALTO FLUJO GENERADAS\")\n",
        "else:\n",
        "    print(f\"❌ No hay objetos en la lista filtrada para graficar.\")"
      ],
      "metadata": {
        "id": "MFat7cgHXhyU"
      },
      "execution_count": null,
      "outputs": []
    },
    {
      "cell_type": "markdown",
      "source": [
        "### Filtrado para ver AGN con redshift CMB (ZCMB) altos"
      ],
      "metadata": {
        "id": "7LZtngoQiHxE"
      }
    },
    {
      "cell_type": "code",
      "source": [
        "print(\"🔍 Filtrando AGN detectados por Redshift CMB mínimo...\")\n",
        "\n",
        "# Definir el umbral de redshift CMB\n",
        "zcmb_threshold = 1.5\n",
        "# Asegurarse de que dump_df no esté vacío y que la columna ZCMB exista\n",
        "zcmb_cols = [col for col in dump_df.columns if 'ZCMB' in col.upper()]\n",
        "sim_zcmb_col = zcmb_cols[0] if zcmb_cols else None\n",
        "\n",
        "if not dump_df.empty and sim_zcmb_col:\n",
        "    # Asegurarse de que head_df tiene una columna string para SNID para facilitar la comparación\n",
        "    if 'SNID_str' not in head_df.columns:\n",
        "        head_df['SNID_str'] = head_df['SNID'].str.decode('utf-8').str.strip()\n",
        "\n",
        "    # Asegurarse de que dump_df tiene una columna string para SNID (o un índice que coincida con SNID_str)\n",
        "    # Asumiendo que el índice de dump_df es el CID/SNID simulado\n",
        "    # Si no es así, necesitaremos encontrar la columna que mapea a SNID.\n",
        "    # Basado en la inspección inicial, parece que la columna 'CID' en DUMP corresponde a SNID.\n",
        "    if 'CID' in dump_df.columns:\n",
        "         dump_df['CID_str'] = dump_df['CID'].astype(str)\n",
        "         # Crear un conjunto de SNID detectados como strings para una búsqueda rápida\n",
        "         detected_snid_set = set(detected_AGN_snids)\n",
        "\n",
        "         # Filtrar dump_df para incluir solo los objetos que fueron detectados\n",
        "         detected_in_dump_df = dump_df[dump_df['CID_str'].isin(detected_snid_set)].copy()\n",
        "\n",
        "         # Ahora filtrar los objetos detectados por el umbral de ZCMB\n",
        "         snids_high_zcmb_df = detected_in_dump_df[detected_in_dump_df[sim_zcmb_col] > zcmb_threshold]\n",
        "\n",
        "         # Obtener la lista de SNID (como strings) que cumplen ambos criterios\n",
        "         snids_high_zcmb = snids_high_zcmb_df['CID_str'].tolist()\n",
        "\n",
        "         print(f\"✅ Se encontraron {len(snids_high_zcmb):,} AGN detectados con Redshift CMB > {zcmb_threshold}.\")\n",
        "\n",
        "         # Mostrar los primeros 10 SNID filtrados\n",
        "         print(\"\\n📋 Primeros 10 SNID con alto Redshift CMB:\")\n",
        "         print(snids_high_zcmb[:10])\n",
        "\n",
        "         # Guardar la lista filtrada en una nueva variable\n",
        "         filtered_AGN_snids_high_zcmb = snids_high_zcmb\n",
        "\n",
        "    else:\n",
        "        print(\"❌ No se encontró la columna 'CID' en DUMP para vincular con SNID.\")\n",
        "\n",
        "else:\n",
        "    print(\"❌ No se pudo realizar el filtrado - dump_df vacío o falta columna ZCMB.\")"
      ],
      "metadata": {
        "id": "-bGOmZV7XhwE"
      },
      "execution_count": null,
      "outputs": []
    },
    {
      "cell_type": "code",
      "source": [
        "# =============================================================================\n",
        "# VISUALIZACIÓN DE CURVAS DE LUZ PARA AGN CON ALTO REDSHIFT CMB\n",
        "# =============================================================================\n",
        "\n",
        "print(\"📈 GENERANDO CURVAS DE LUZ PARA AGN CON ALTO REDSHIFT CMB...\")\n",
        "\n",
        "# Use the list of SNIDs filtered by high ZCMB\n",
        "objects_to_plot_snids = filtered_AGN_snids_high_zcmb # Use the filtered list\n",
        "n_objects_to_plot = len(objects_to_plot_snids) # Update the count\n",
        "\n",
        "if n_objects_to_plot > 0:\n",
        "    # Get metadata for the selected objects based on their SNIDs\n",
        "    # Ensure 'SNID_str' is in head_df\n",
        "    if 'SNID_str' not in head_df.columns:\n",
        "        head_df['SNID_str'] = head_df['SNID'].str.decode('utf-8').str.strip()\n",
        "\n",
        "    selected_objects_meta = head_df[head_df['SNID_str'].isin(objects_to_plot_snids)]\n",
        "\n",
        "    # Ensure the plotting order matches the filtered list\n",
        "    meta_dict = selected_objects_meta.set_index('SNID_str').to_dict('index')\n",
        "\n",
        "    print(f\"🔍 Objetos seleccionados para plotear: {n_objects_to_plot}\")\n",
        "\n",
        "    # Define bands and colors based on previous example\n",
        "    bands = ['u', 'g','r','i', \"z\", \"Y\"]\n",
        "    colors = {'u':'#629fca','g':'#6abc6a','r':'#e26768', 'i':'#ffa557', 'z':'#ae8880', 'Y': 'k'}\n",
        "\n",
        "\n",
        "    # Configurar plot\n",
        "    # Adjusted figsize and height based on the number of objects\n",
        "    fig, axes = plt.subplots(n_objects_to_plot, 1, figsize=(15, 3.5*n_objects_to_plot), sharex=False)\n",
        "\n",
        "\n",
        "    # Ensure axes is an array even for a single subplot\n",
        "    if n_objects_to_plot == 1:\n",
        "        axes = [axes]\n",
        "\n",
        "    # Ensure 'SNID_str' is in linked_df\n",
        "    if 'SNID_str' not in linked_df.columns:\n",
        "         linked_df['SNID_str'] = linked_df['SNID'].str.decode('utf-8').str.strip()\n",
        "\n",
        "    # Iterate through the filtered SNIDs\n",
        "    for i, snid_str in enumerate(objects_to_plot_snids):\n",
        "        # Get object data using the helper function\n",
        "        obj_data = linked_df[linked_df['SNID_str'] == snid_str].copy()\n",
        "\n",
        "        # Get metadata for title using the dictionary lookup\n",
        "        obj_meta = meta_dict.get(snid_str)\n",
        "        if obj_meta is None:\n",
        "             print(f\"Metadata not found for SNID: {snid_str}\")\n",
        "             continue\n",
        "\n",
        "        redshift = obj_meta['REDSHIFT_FINAL'] # Using detected redshift for plot title\n",
        "        ra = obj_meta['RA']\n",
        "        dec = obj_meta['DEC']\n",
        "        mwebv = obj_meta.get('MWEBV', 'N/A')\n",
        "        # Get ZCMB from dump_df for title if available\n",
        "        zcmb_value = None\n",
        "        zcmb_cols = [col for col in dump_df.columns if 'ZCMB' in col.upper()]\n",
        "        sim_zcmb_col = zcmb_cols[0] if zcmb_cols else None\n",
        "        if 'CID_str' in dump_df.columns and sim_zcmb_col and snid_str in dump_df['CID_str'].values:\n",
        "             zcmb_row = dump_df[dump_df['CID_str'] == snid_str].iloc[0]\n",
        "             zcmb_value = zcmb_row.get(sim_zcmb_col)\n",
        "\n",
        "\n",
        "        for band in bands:\n",
        "            band_data = obj_data[obj_data['BAND'] == band]\n",
        "\n",
        "            detected_band_data = band_data[(band_data['PHOTFLAG'] == 4096) | (band_data['PHOTFLAG'] == 6144)].copy()\n",
        "            non_detected_band_data = band_data[band_data['PHOTFLAG'] == 0].copy()\n",
        "\n",
        "\n",
        "            if not detected_band_data.empty:\n",
        "                axes[i].errorbar(\n",
        "                    detected_band_data['MJD'],\n",
        "                    detected_band_data['FLUX_uJy'],\n",
        "                    yerr=detected_band_data['FLUX_uJy_ERR'],\n",
        "                    label=f'{band} det',\n",
        "                    color=colors.get(band, 'gray'),\n",
        "                    marker='o',\n",
        "                    markersize=4,\n",
        "                    alpha=0.8,\n",
        "                    linestyle='None'\n",
        "                )\n",
        "\n",
        "\n",
        "            if not non_detected_band_data.empty:\n",
        "                 axes[i].errorbar(\n",
        "                    non_detected_band_data['MJD'],\n",
        "                    non_detected_band_data['FLUX_uJy'],\n",
        "                    yerr=non_detected_band_data['FLUX_uJy_ERR'],\n",
        "                    label=f'{band} non det',\n",
        "                    color=colors.get(band, 'gray'),\n",
        "                    marker='v',\n",
        "                    markersize=4,\n",
        "                    alpha=0.3,\n",
        "                    linestyle='None'\n",
        "                )\n",
        "\n",
        "        # Construct title including both detected redshift and ZCMB if available\n",
        "        title_text = f'AGN: {snid_str} | RA={ra:.4f}, Dec={dec:.4f} | z_det={redshift:.3f}'\n",
        "\n",
        "        if isinstance(mwebv, (int, float)):\n",
        "             title_text += f' | MWEBV={mwebv:.3f}'\n",
        "        else:\n",
        "             title_text += f' | MWEBV={mwebv}'\n",
        "\n",
        "        axes[i].set_title(title_text)\n",
        "        axes[i].set_ylabel('FLUX_uJy')\n",
        "        axes[i].legend(bbox_to_anchor=(1.05, 1), loc='upper left', borderaxespad=0.)\n",
        "        axes[i].grid(True, alpha=0.3)\n",
        "        axes[i].set_xlabel('MJD (Modified Julian Date)')\n",
        "\n",
        "\n",
        "    plt.tight_layout()\n",
        "    plt.show()\n",
        "\n",
        "    print(\"✅ CURVAS DE LUZ PARA AGN CON ALTO REDSHIFT CMB GENERADAS\")\n",
        "else:\n",
        "    print(f\"❌ No hay objetos en la lista filtrada para graficar.\")"
      ],
      "metadata": {
        "id": "XUgMLsrUXhty"
      },
      "execution_count": null,
      "outputs": []
    },
    {
      "cell_type": "markdown",
      "source": [
        "## Visualizaciones espaciales"
      ],
      "metadata": {
        "id": "0KdJVpVsi4iA"
      }
    },
    {
      "cell_type": "markdown",
      "source": [
        "### Visualizacion de la ubicacion de un objetivo en especifico en un mapa healpix"
      ],
      "metadata": {
        "id": "JSirPeukiQgr"
      }
    },
    {
      "cell_type": "code",
      "source": [
        "print(\"🗺️ VISUALIZANDO UBICACIÓN DE AGN ESPECÍFICO EN MAPA HEALPIX...\")\n",
        "\n",
        "# Definir el SNID del objeto que queremos visualizar\n",
        "target_snid_str = '1875'\n",
        "\n",
        "# Asegurarse de que head_df tiene la columna string para SNID\n",
        "if 'SNID_str' not in head_df.columns:\n",
        "    head_df['SNID_str'] = head_df['SNID'].str.decode('utf-8').str.strip()\n",
        "\n",
        "# Encontrar los metadatos para el objeto objetivo\n",
        "target_object_meta = head_df[head_df['SNID_str'] == target_snid_str]\n",
        "\n",
        "if not target_object_meta.empty:\n",
        "    # Obtener RA y DEC del objeto objetivo\n",
        "    target_ra = target_object_meta['RA'].iloc[0]\n",
        "    target_dec = target_object_meta['DEC'].iloc[0]\n",
        "\n",
        "    print(f\"🔍 Ubicación de SNID {target_snid_str}: RA={target_ra:.4f}, Dec={target_dec:.4f}\")\n",
        "\n",
        "\n",
        "    # Configurar HEALPix (usando el mismo nside que antes para consistencia)\n",
        "    nside = 64\n",
        "    npix = hp.nside2npix(nside)\n",
        "\n",
        "    # Crear un mapa HEALPix vacío\n",
        "    sky_map_single = np.zeros(npix)\n",
        "\n",
        "    # Convertir RA y DEC del objeto objetivo a coordenadas HEALPix (theta, phi)\n",
        "    # healpy usa theta (colatitud) y phi (longitud), donde theta = 90 - Dec y phi = Ra\n",
        "    target_theta = np.radians(90. - target_dec)\n",
        "    target_phi = np.radians(target_ra)\n",
        "\n",
        "    # Encontrar el píxel HEALPix que contiene el objeto objetivo\n",
        "    target_pixel = hp.ang2pix(nside, target_theta, target_phi)\n",
        "\n",
        "    # Marcar el píxel del objeto objetivo en el mapa (por ejemplo, con un valor de 1)\n",
        "    sky_map_single[target_pixel] = 1.0\n",
        "\n",
        "    # Visualizar el mapa\n",
        "    plt.figure(figsize=(12, 6))\n",
        "    hp.mollview(\n",
        "        sky_map_single,\n",
        "        title=f\"Ubicación de AGN {target_snid_str} (RA={target_ra:.2f}, Dec={target_dec:.2f})\",\n",
        "        unit=\"Pixel de Objeto Objetivo\",\n",
        "        min=0,\n",
        "        max=1, # Escala para que solo se muestre el píxel marcado\n",
        "        cbar=False # No necesitamos barra de color para un solo píxel\n",
        "    )\n",
        "    hp.graticule() # Añadir graticula para referencia\n",
        "\n",
        "    # Añadir un marcador más visible en la ubicación exacta\n",
        "    hp.projscatter(target_theta, target_phi, lonlat=False, marker='o', color='red', s=100, edgecolors='black', label=f'SNID {target_snid_str}')\n",
        "    plt.legend(loc='best') # Add a legend for the marker\n",
        "\n",
        "\n",
        "    plt.show()\n",
        "\n",
        "    print(f\"✅ Mapa HEALPix generado mostrando la ubicación de SNID {target_snid_str}.\")\n",
        "\n",
        "else:\n",
        "    print(f\"❌ SNID {target_snid_str} no encontrado en los metadatos.\")"
      ],
      "metadata": {
        "id": "dIs1VA37Xhrg"
      },
      "execution_count": null,
      "outputs": []
    },
    {
      "cell_type": "code",
      "source": [
        "# =============================================================================\n",
        "# VISUALIZACIÓN DE LA UBICACIÓN DE UN AGN ESPECÍFICO EN UN MAPA HEALPIX\n",
        "# =============================================================================\n",
        "\n",
        "print(\"🗺️ VISUALIZANDO UBICACIÓN DE AGN ESPECÍFICO EN MAPA HEALPIX...\")\n",
        "\n",
        "# Definir el SNID del objeto que queremos visualizar\n",
        "target_snid_str = '1569'\n",
        "\n",
        "# Asegurarse de que head_df tiene la columna string para SNID\n",
        "if 'SNID_str' not in head_df.columns:\n",
        "    head_df['SNID_str'] = head_df['SNID'].str.decode('utf-8').str.strip()\n",
        "\n",
        "# Encontrar los metadatos para el objeto objetivo\n",
        "target_object_meta = head_df[head_df['SNID_str'] == target_snid_str]\n",
        "\n",
        "if not target_object_meta.empty:\n",
        "    # Obtener RA y DEC del objeto objetivo\n",
        "    target_ra = target_object_meta['RA'].iloc[0]\n",
        "    target_dec = target_object_meta['DEC'].iloc[0]\n",
        "\n",
        "    print(f\"🔍 Ubicación de SNID {target_snid_str}: RA={target_ra:.4f}, Dec={target_dec:.4f}\")\n",
        "\n",
        "\n",
        "    # Configurar HEALPix (usando el mismo nside que antes para consistencia)\n",
        "    nside = 64\n",
        "    npix = hp.nside2npix(nside)\n",
        "\n",
        "    # Crear un mapa HEALPix vacío\n",
        "    sky_map_single = np.zeros(npix)\n",
        "\n",
        "    # Convertir RA y DEC del objeto objetivo a coordenadas HEALPix (theta, phi)\n",
        "    # healpy usa theta (colatitud) y phi (longitud), donde theta = 90 - Dec y phi = Ra\n",
        "    target_theta = np.radians(90. - target_dec)\n",
        "    target_phi = np.radians(target_ra)\n",
        "\n",
        "    # Encontrar el píxel HEALPix que contiene el objeto objetivo\n",
        "    target_pixel = hp.ang2pix(nside, target_theta, target_phi)\n",
        "\n",
        "    # Marcar el píxel del objeto objetivo en el mapa (por ejemplo, con un valor de 1)\n",
        "    sky_map_single[target_pixel] = 1.0\n",
        "\n",
        "    # Visualizar el mapa\n",
        "    plt.figure(figsize=(12, 6))\n",
        "    hp.mollview(\n",
        "        sky_map_single,\n",
        "        title=f\"Ubicación de AGN {target_snid_str} (RA={target_ra:.2f}, Dec={target_dec:.2f})\",\n",
        "        unit=\"Pixel de Objeto Objetivo\",\n",
        "        min=0,\n",
        "        max=1, # Escala para que solo se muestre el píxel marcado\n",
        "        cbar=False # No necesitamos barra de color para un solo píxel\n",
        "    )\n",
        "    hp.graticule() # Añadir graticula para referencia\n",
        "\n",
        "    # Añadir un marcador más visible en la ubicación exacta\n",
        "    hp.projscatter(target_theta, target_phi, lonlat=False, marker='o', color='red', s=100, edgecolors='black', label=f'SNID {target_snid_str}')\n",
        "    plt.legend(loc='best') # Add a legend for the marker\n",
        "\n",
        "\n",
        "    plt.show()\n",
        "\n",
        "    print(f\"✅ Mapa HEALPix generado mostrando la ubicación de SNID {target_snid_str}.\")\n",
        "\n",
        "else:\n",
        "    print(f\"❌ SNID {target_snid_str} no encontrado en los metadatos.\")"
      ],
      "metadata": {
        "id": "ygVbD8cAF4iM"
      },
      "execution_count": null,
      "outputs": []
    },
    {
      "cell_type": "markdown",
      "source": [
        "### Comparacion de distribucion espacial: simulados vs detectados\n",
        "\n",
        "faltan sacar las curvas de luz de detectados y de simulados"
      ],
      "metadata": {
        "id": "oRJ8lhumicfY"
      }
    },
    {
      "cell_type": "code",
      "source": [
        "print(\"🗺️ COMPARANDO DISTRIBUCIÓN ESPACIAL (SIMULADOS vs DETECTADOS)...\")\n",
        "\n",
        "# Configurar HEALPix (usando el mismo nside que antes para consistencia)\n",
        "nside = 64\n",
        "npix = hp.nside2npix(nside)\n",
        "\n",
        "# --- Mapa para TODOS los objetos SIMULADOS (desde DUMP) ---\n",
        "sim_ra_col = [col for col in dump_df.columns if 'RA' in col.upper()][0] if [col for col in dump_df.columns if 'RA' in col.upper()] else None\n",
        "sim_dec_col = [col for col in dump_df.columns if 'DEC' in col.upper()][0] if [col for col in dump_df.columns if 'DEC' in col.upper()] else None\n",
        "\n",
        "if not dump_df.empty and sim_ra_col and sim_dec_col:\n",
        "    print(\"Procesando todos los objetos simulados...\")\n",
        "    # Filter out rows with invalid DEC values before converting to radians\n",
        "    valid_dump_df = dump_df[(dump_df[sim_dec_col] >= -90) & (dump_df[sim_dec_col] <= 90)].copy()\n",
        "\n",
        "    # Convertir RA y DEC de todos los simulados a coordenadas HEALPix\n",
        "    sim_theta = np.radians(90. - valid_dump_df[sim_dec_col])\n",
        "    sim_phi = np.radians(valid_dump_df[sim_ra_col])\n",
        "    sim_pixels = hp.ang2pix(nside, sim_theta, sim_phi)\n",
        "\n",
        "    # Contar objetos por píxel para todos los simulados\n",
        "    sim_sky_map = np.bincount(sim_pixels, minlength=npix)\n",
        "\n",
        "    # --- Mapa para objetos DETECTADOS (desde HEAD) ---\n",
        "    # head_df ya tiene 'RA' y 'DEC'\n",
        "    print(\"Procesando objetos detectados...\")\n",
        "    # Convertir RA y DEC de los detectados a coordenadas HEALPix\n",
        "    det_theta = np.radians(90. - head_df['DEC'])\n",
        "    det_phi = np.radians(head_df['RA'])\n",
        "    det_pixels = hp.ang2pix(nside, det_theta, det_phi)\n",
        "\n",
        "    # Contar objetos por píxel para los detectados\n",
        "    det_sky_map = np.bincount(det_pixels, minlength=npix)\n",
        "\n",
        "    # --- Visualización ---\n",
        "    print(\"Generando mapas HEALPix...\")\n",
        "    plt.figure(figsize=(15, 10))\n",
        "\n",
        "    # Subplot para todos los simulados\n",
        "    plt.subplot(2, 1, 1) # 2 rows, 1 column, 1st plot\n",
        "    hp.mollview(\n",
        "        sim_sky_map,\n",
        "        fig=plt.gcf(), # Use current figure\n",
        "        sub=211,     # Subplot code\n",
        "        title=f\"Distribución Espacial de TODOS los AGN Simulados ({len(valid_dump_df):,} objetos)\",\n",
        "        unit=\"N AGN Simulados por píxel\",\n",
        "        min=0\n",
        "    )\n",
        "    hp.graticule()\n",
        "\n",
        "    # Subplot para los detectados\n",
        "    plt.subplot(2, 1, 2) # 2 rows, 1 column, 2nd plot\n",
        "    hp.mollview(\n",
        "        det_sky_map,\n",
        "        fig=plt.gcf(), # Use current figure\n",
        "        sub=212,     # Subplot code\n",
        "        title=f\"Distribución Espacial de AGN DETECTADOS ({len(head_df):,} objetos)\",\n",
        "        unit=\"N AGN Detectados por píxel\",\n",
        "        min=0\n",
        "    )\n",
        "    hp.graticule()\n",
        "\n",
        "    plt.tight_layout()\n",
        "    plt.show()\n",
        "\n",
        "    print(\"✅ Comparación de distribución espacial generada.\")\n",
        "\n",
        "else:\n",
        "    print(\"❌ No se pudieron generar los mapas - faltan datos esenciales en DUMP o HEAD.\")"
      ],
      "metadata": {
        "id": "8lUgd-mgXhnH"
      },
      "execution_count": null,
      "outputs": []
    },
    {
      "cell_type": "markdown",
      "source": [
        "### Visualizacion de la ubicacion de multiples AGN"
      ],
      "metadata": {
        "id": "U5bE27zFi0Eh"
      }
    },
    {
      "cell_type": "code",
      "metadata": {
        "id": "6c6566b2"
      },
      "source": [
        "print(\"🗺️ VISUALIZANDO UBICACIONES DE TDE CON ALTO FLUJO EN MAPA HEALPIX...\")\n",
        "\n",
        "# Usar la lista de SNID filtrados por alto flujo\n",
        "objects_to_plot_snids = filtered_AGN_snids_high_flux # Usar la lista filtrada\n",
        "n_objects_to_plot = len(objects_to_plot_snids) # Actualizar el contador\n",
        "\n",
        "if n_objects_to_plot > 0:\n",
        "    # Asegurarse de que head_df tiene la columna string para SNID\n",
        "    if 'SNID_str' not in head_df.columns:\n",
        "        head_df['SNID_str'] = head_df['SNID'].str.decode('utf-8').str.strip()\n",
        "\n",
        "    # Obtener los metadatos para los objetos objetivo (los de alto flujo)\n",
        "    target_objects_meta = head_df[head_df['SNID_str'].isin(objects_to_plot_snids)].copy()\n",
        "\n",
        "    if not target_objects_meta.empty:\n",
        "        # Configurar HEALPix (usando el mismo nside que antes para consistencia)\n",
        "        nside = 64\n",
        "        npix = hp.nside2npix(nside)\n",
        "\n",
        "        # Crear un mapa HEALPix vacío para la visualización de ubicaciones\n",
        "        sky_map_locations = np.zeros(npix)\n",
        "\n",
        "        # Convertir RA y DEC de los objetos objetivo a coordenadas HEALPix (theta, phi)\n",
        "        target_theta = np.radians(90. - target_objects_meta['DEC'])\n",
        "        target_phi = np.radians(target_objects_meta['RA'])\n",
        "\n",
        "        # Encontrar los píxeles HEALPix que contienen los objetos objetivo\n",
        "        target_pixels = hp.ang2pix(nside, target_theta, target_phi)\n",
        "\n",
        "        # Incrementar el contador para cada píxel que contiene un objeto\n",
        "        # Nota: Si múltiples objetos caen en el mismo píxel, este método los cuenta.\n",
        "        for pixel in target_pixels:\n",
        "            sky_map_locations[pixel] += 1\n",
        "\n",
        "        # Visualizar el mapa\n",
        "        plt.figure(figsize=(12, 6))\n",
        "        hp.mollview(\n",
        "            sky_map_locations,\n",
        "            title=f\"Ubicación de {n_objects_to_plot} TDE con Alto Flujo\",\n",
        "            unit=\"Número de TDE por píxel\",\n",
        "            min=0,\n",
        "            cbar=True # Mostrar barra de color\n",
        "        )\n",
        "        hp.graticule() # Añadir graticula para referencia\n",
        "\n",
        "        # --- Añadir la ubicación de la supernova 1918 ---\n",
        "        specific_snid_str = '1918'\n",
        "        specific_object_meta = head_df[head_df['SNID_str'] == specific_snid_str]\n",
        "\n",
        "        if not specific_object_meta.empty:\n",
        "            specific_ra = specific_object_meta['RA'].iloc[0]\n",
        "            specific_dec = specific_object_meta['DEC'].iloc[0]\n",
        "            specific_theta = np.radians(90. - specific_dec)\n",
        "            specific_phi = np.radians(specific_ra)\n",
        "\n",
        "            # Añadir un marcador para la supernova 1918\n",
        "            hp.projscatter(specific_theta, specific_phi, lonlat=False, marker='o', color='red', s=200, edgecolors='black', label=f'SNID {specific_snid_str}')\n",
        "            plt.legend(loc='best') # Añadir leyenda para el marcador\n",
        "\n",
        "            print(f\"✅ Marcador añadido para SNID {specific_snid_str} (RA={specific_ra:.2f}, Dec={specific_dec:.2f}).\")\n",
        "        else:\n",
        "            print(f\"❌ SNID {specific_snid_str} no encontrado en los metadatos.\")\n",
        "\n",
        "\n",
        "        plt.show()\n",
        "\n",
        "        print(f\"✅ Mapa HEALPix generado mostrando las ubicaciones de {n_objects_to_plot} TDE con alto flujo.\")\n",
        "\n",
        "    else:\n",
        "        print(f\"❌ No se encontraron metadatos para los {n_objects_to_plot} SNID de alto flujo.\")\n",
        "\n",
        "else:\n",
        "    print(f\"❌ No hay objetos en la lista filtrada (alto flujo) para graficar.\")"
      ],
      "execution_count": null,
      "outputs": []
    },
    {
      "cell_type": "code",
      "source": [
        "# =============================================================================\n",
        "# VISUALIZACIÓN DE LA UBICACIÓN DE MÚLTIPLES AGN ESPECÍFICOS EN EL MAPA DE TODOS LOS SIMULADOS (HEALPIX)\n",
        "# =============================================================================\n",
        "\n",
        "print(\"🗺️ VISUALIZANDO UBICACIONES DE AGN ESPECÍFICOS EN EL MAPA DE TODOS LOS SIMULADOS...\")\n",
        "\n",
        "# Configurar HEALPix (usando el mismo nside que antes para consistencia)\n",
        "nside = 64\n",
        "npix = hp.nside2npix(nside)\n",
        "\n",
        "# --- Mapa para TODOS los objetos SIMULADOS (desde DUMP) ---\n",
        "sim_ra_col = [col for col in dump_df.columns if 'RA' in col.upper()][0] if [col for col in dump_df.columns if 'RA' in col.upper()] else None\n",
        "sim_dec_col = [col for col in dump_df.columns if 'DEC' in col.upper()][0] if [col for col in dump_df.columns if 'DEC' in col.upper()] else None\n",
        "sim_cid_col = [col for col in dump_df.columns if 'CID' in col.upper()][0] if [col for col in dump_df.columns if 'CID' in col.upper()] else None\n",
        "\n",
        "\n",
        "if not dump_df.empty and sim_ra_col and sim_dec_col and sim_cid_col:\n",
        "    print(\"Procesando todos los objetos simulados...\")\n",
        "    # Filter out rows with invalid DEC values before converting to radians\n",
        "    valid_dump_df = dump_df[(dump_df[sim_dec_col] >= -90) & (dump_df[sim_dec_col] <= 90)].copy()\n",
        "\n",
        "    # Convertir RA y DEC de todos los simulados a coordenadas HEALPix\n",
        "    sim_theta = np.radians(90. - valid_dump_df[sim_dec_col])\n",
        "    sim_phi = np.radians(valid_dump_df[sim_ra_col])\n",
        "    sim_pixels = hp.ang2pix(nside, sim_theta, sim_phi)\n",
        "\n",
        "    # Contar objetos por píxel para todos los simulados\n",
        "    sim_sky_map = np.bincount(sim_pixels, minlength=npix)\n",
        "\n",
        "    # --- Visualización ---\n",
        "    plt.figure(figsize=(12, 6))\n",
        "    hp.mollview(\n",
        "        sim_sky_map,\n",
        "        title=f\"Distribución Espacial de las AGN Simuladas ({len(valid_dump_df):,} objetos)\",\n",
        "        unit=\"N AGN Simulados por píxel\",\n",
        "        min=0,\n",
        "        cbar=True # Mostrar barra de color\n",
        "    )\n",
        "    hp.graticule() # Añadir graticula para referencia\n",
        "\n",
        "    # --- Añadir las ubicaciones de las supernovas específicas con colores diferentes ---\n",
        "    target_snids_str = ['1569', '1875','43']\n",
        "    # Define a list of distinct colors for the markers\n",
        "    marker_colors = ['red', 'blue', 'green', 'purple'] # Add more colors if needed\n",
        "\n",
        "    # Asegurarse de que dump_df tiene una columna string para CID (SNID simulado)\n",
        "    if 'CID_str' not in dump_df.columns:\n",
        "         dump_df['CID_str'] = dump_df[sim_cid_col].astype(str)\n",
        "\n",
        "\n",
        "    # Encontrar los metadatos para los objetos objetivo en DUMP\n",
        "    target_objects_meta_dump = dump_df[dump_df['CID_str'].isin(target_snids_str)].copy() # Add .copy() to avoid SettingWithCopyWarning\n",
        "\n",
        "\n",
        "    if not target_objects_meta_dump.empty:\n",
        "        print(f\"🔍 Marcando las ubicaciones de los SNID: {target_snids_str} con colores diferentes\")\n",
        "        # Iterar sobre cada objeto objetivo encontrado y asignar un color\n",
        "        for i, (index, obj_meta_dump) in enumerate(target_objects_meta_dump.iterrows()):\n",
        "            # Obtener RA y DEC del objeto objetivo desde DUMP\n",
        "            target_ra_dump = obj_meta_dump[sim_ra_col]\n",
        "            target_dec_dump = obj_meta_dump[sim_dec_col]\n",
        "            snid = obj_meta_dump['CID_str']\n",
        "            color = marker_colors[i % len(marker_colors)] # Cycle through colors\n",
        "\n",
        "            # Convertir a coordenadas HEALPix\n",
        "            target_theta_dump = np.radians(90. - target_dec_dump)\n",
        "            target_phi_dump = np.radians(target_ra_dump)\n",
        "\n",
        "            # Añadir un marcador para cada supernova con su color asignado\n",
        "            hp.projscatter(target_theta_dump, target_phi_dump, lonlat=False, marker='o', color=color, s=200, edgecolors='black', label=f'SNID {snid}')\n",
        "\n",
        "        plt.legend(loc='best') # Añadir leyenda para los marcadores\n",
        "\n",
        "\n",
        "        print(f\"✅ Marcadores añadidos para los SNID especificados con colores diferentes.\")\n",
        "    else:\n",
        "        print(f\"❌ Ninguno de los SNID especificados ({target_snids_str}) fue encontrado en los datos simulados (DUMP).\")\n",
        "\n",
        "\n",
        "    plt.show()\n",
        "\n",
        "    print(\"✅ Mapa HEALPix de todos los simulados con ubicaciones específicas (colores diferentes) generado.\")\n",
        "\n",
        "else:\n",
        "    print(\"❌ No se pudo generar el mapa - faltan datos esenciales en DUMP.\")"
      ],
      "metadata": {
        "id": "n6GsHu81Xhiv"
      },
      "execution_count": null,
      "outputs": []
    },
    {
      "cell_type": "markdown",
      "source": [
        "## Curvas de luz con ventanas temporales\n",
        "\n",
        "Esto es como para recortar curvas de luz segun fechas en especifico"
      ],
      "metadata": {
        "id": "0NMtCmh6jKFF"
      }
    },
    {
      "cell_type": "code",
      "source": [
        "# =============================================================================\n",
        "# VISUALIZACIÓN DE CURVAS DE LUZ PARA AGN ESPECÍFICOS (VENTANA DE TIEMPO)\n",
        "# =============================================================================\n",
        "\n",
        "print(\"📈 GENERANDO CURVAS DE LUZ PARA AGN ESPECÍFICOS (VENTANA DE TIEMPO)...\")\n",
        "\n",
        "# Define the specific SNIDs to plot\n",
        "target_snids_str = ['1966', '1569']\n",
        "n_objects_to_plot = len(target_snids_str)\n",
        "\n",
        "# Define the time window size in days (centered around the peak)\n",
        "time_window_days = 200\n",
        "\n",
        "if n_objects_to_plot > 0:\n",
        "    # Ensure 'SNID_str' is in head_df\n",
        "    if 'SNID_str' not in head_df.columns:\n",
        "        head_df['SNID_str'] = head_df['SNID'].str.decode('utf-8').str.strip()\n",
        "\n",
        "    # Get metadata for the selected objects based on their SNIDs\n",
        "    selected_objects_meta = head_df[head_df['SNID_str'].isin(target_snids_str)].copy()\n",
        "\n",
        "    # Ensure 'SNID_str' is in linked_df\n",
        "    if 'SNID_str' not in linked_df.columns:\n",
        "         linked_df['SNID_str'] = linked_df['SNID'].str.decode('utf-8').str.strip()\n",
        "\n",
        "    # Create a dictionary for quick lookup of metadata by SNID string\n",
        "    meta_dict = selected_objects_meta.set_index('SNID_str').to_dict('index')\n",
        "\n",
        "    print(f\"🔍 Objetos seleccionados para plotear: {target_snids_str}\")\n",
        "\n",
        "    # Define bands and colors\n",
        "    bands = ['u', 'g','r','i', \"z\", \"Y\"]\n",
        "    colors = {'u':'#629fca','g':'#6abc6a','r':'#e26768', 'i':'#ffa557', 'z':'#ae8880', 'Y': 'k'}\n",
        "\n",
        "    # Configurar plot\n",
        "    fig, axes = plt.subplots(n_objects_to_plot, 1, figsize=(15, 4 * n_objects_to_plot), sharex=False)\n",
        "\n",
        "    # Ensure axes is an array even for a single subplot\n",
        "    if n_objects_to_plot == 1:\n",
        "        axes = [axes]\n",
        "\n",
        "    # Iterate through the target SNIDs\n",
        "    for i, snid_str in enumerate(target_snids_str):\n",
        "        # Get all observations for the current SNID from linked_df\n",
        "        obj_data = linked_df[linked_df['SNID_str'] == snid_str].copy()\n",
        "\n",
        "        # Get metadata for title\n",
        "        obj_meta = meta_dict.get(snid_str)\n",
        "        if obj_meta is None:\n",
        "             print(f\"Metadata not found for SNID: {snid_str}\")\n",
        "             continue\n",
        "\n",
        "        redshift = obj_meta['REDSHIFT_FINAL']\n",
        "        ra = obj_meta['RA']\n",
        "        dec = obj_meta['DEC']\n",
        "        mwebv = obj_meta.get('MWEBV', 'N/A')\n",
        "\n",
        "        # --- Determine approximate peak MJD ---\n",
        "        # Filter for detected observations with positive flux in the r-band (common for peak)\n",
        "        r_band_detections = obj_data[(obj_data['BAND'] == 'r') & ((obj_data['PHOTFLAG'] == 4096) | (obj_data['PHOTFLAG'] == 6144)) & (obj_data['FLUX_uJy'] > 0)].copy()\n",
        "\n",
        "        peak_mjd = None\n",
        "        if not r_band_detections.empty:\n",
        "            # Find the MJD corresponding to the maximum flux in the r-band\n",
        "            peak_mjd = r_band_detections.loc[r_band_detections['FLUX_uJy'].idxmax()]['MJD']\n",
        "            print(f\"Estimado MJD del pico para SNID {snid_str}: {peak_mjd:.2f}\")\n",
        "        else:\n",
        "            # If no r-band detections, try finding the MJD of the highest flux overall\n",
        "            all_detections = obj_data[((obj_data['PHOTFLAG'] == 4096) | (obj_data['PHOTFLAG'] == 6144)) & (obj_data['FLUX_uJy'] > 0)].copy()\n",
        "            if not all_detections.empty:\n",
        "                peak_mjd = all_detections.loc[all_detections['FLUX_uJy'].idxmax()]['MJD']\n",
        "                print(f\"Estimado MJD del pico (usando todas las bandas) para SNID {snid_str}: {peak_mjd:.2f}\")\n",
        "            else:\n",
        "                print(f\"⚠️ No se encontraron detecciones con flujo positivo para SNID {snid_str}. No se puede estimar el pico.\")\n",
        "                # Skip plotting this object if no peak is found\n",
        "                axes[i].set_title(f'AGN: {snid_str} | No se encontraron detecciones')\n",
        "                axes[i].set_ylabel('FLUX_uJy')\n",
        "                axes[i].set_xlabel('MJD (Modified Julian Date)')\n",
        "                axes[i].grid(True, alpha=0.3)\n",
        "                continue\n",
        "\n",
        "\n",
        "        # --- Filter observations within the time window ---\n",
        "        if peak_mjd is not None:\n",
        "            start_mjd = peak_mjd - time_window_days / 2.0\n",
        "            end_mjd = peak_mjd + time_window_days / 2.0\n",
        "            window_obj_data = obj_data[(obj_data['MJD'] >= start_mjd) & (obj_data['MJD'] <= end_mjd)].copy()\n",
        "            print(f\"Filtrando observaciones para SNID {snid_str} entre MJD {start_mjd:.2f} y {end_mjd:.2f}\")\n",
        "        else:\n",
        "            # If peak_mjd wasn't found, use all data but print a warning\n",
        "            window_obj_data = obj_data.copy()\n",
        "            print(f\"⚠️ Usando todas las observaciones para SNID {snid_str} ya que no se pudo estimar el pico.\")\n",
        "\n",
        "\n",
        "        # --- Plotting ---\n",
        "        for band in bands:\n",
        "            band_data = window_obj_data[window_obj_data['BAND'] == band]\n",
        "\n",
        "            # Separate detected and non-detected observations\n",
        "            detected_band_data = band_data[(band_data['PHOTFLAG'] == 4096) | (band_data['PHOTFLAG'] == 6144)].copy()\n",
        "            non_detected_band_data = band_data[band_data['PHOTFLAG'] == 0].copy()\n",
        "\n",
        "            # Plot detected points (circles)\n",
        "            if not detected_band_data.empty:\n",
        "                axes[i].errorbar(\n",
        "                    detected_band_data['MJD'],\n",
        "                    detected_band_data['FLUX_uJy'],\n",
        "                    yerr=detected_band_data['FLUX_uJy_ERR'],\n",
        "                    label=f'{band} det',\n",
        "                    color=colors.get(band, 'gray'),\n",
        "                    marker='o',\n",
        "                    markersize=4,\n",
        "                    alpha=0.8,\n",
        "                    linestyle='None'\n",
        "                )\n",
        "\n",
        "            # Plot non-detected points (downward triangles)\n",
        "            if not non_detected_band_data.empty:\n",
        "                 axes[i].errorbar(\n",
        "                    non_detected_band_data['MJD'],\n",
        "                    non_detected_band_data['FLUX_uJy'],\n",
        "                    yerr=non_detected_band_data['FLUX_uJy_ERR'],\n",
        "                    label=f'{band} non det',\n",
        "                    color=colors.get(band, 'gray'),\n",
        "                    marker='v',\n",
        "                    markersize=4,\n",
        "                    alpha=0.3,\n",
        "                    linestyle='None'\n",
        "                )\n",
        "\n",
        "        # Construct title\n",
        "        title_text = f'AGN: {snid_str} | RA={ra:.4f}, Dec={dec:.4f} | z_det={redshift:.3f}'\n",
        "\n",
        "        if isinstance(mwebv, (int, float)):\n",
        "             title_text += f' | MWEBV={mwebv:.3f}'\n",
        "        else:\n",
        "             title_text += f' | MWEBV={mwebv}'\n",
        "\n",
        "        # Add MJD range to the title\n",
        "        if peak_mjd is not None:\n",
        "            title_text += f' | Ventana: [{start_mjd:.0f}, {end_mjd:.0f}] MJD'\n",
        "\n",
        "\n",
        "        axes[i].set_title(title_text)\n",
        "        axes[i].set_ylabel('FLUX_uJy')\n",
        "        axes[i].legend(bbox_to_anchor=(1.05, 1), loc='upper left', borderaxespad=0.)\n",
        "        axes[i].grid(True, alpha=0.3)\n",
        "        axes[i].set_xlabel('MJD (Modified Julian Date)')\n",
        "\n",
        "\n",
        "    plt.tight_layout()\n",
        "    plt.show()\n",
        "\n",
        "    print(\"✅ CURVAS DE LUZ GENERADAS PARA AGN ESPECÍFICOS (VENTANA DE TIEMPO)\")\n",
        "else:\n",
        "    print(f\"❌ No hay objetos especificados para graficar.\")"
      ],
      "metadata": {
        "id": "Hai7aeRmXhgs"
      },
      "execution_count": null,
      "outputs": []
    },
    {
      "cell_type": "code",
      "source": [],
      "metadata": {
        "id": "FWpqKu7eXhet"
      },
      "execution_count": null,
      "outputs": []
    },
    {
      "cell_type": "code",
      "source": [],
      "metadata": {
        "id": "LDOafKIeXhcS"
      },
      "execution_count": null,
      "outputs": []
    },
    {
      "cell_type": "code",
      "source": [],
      "metadata": {
        "id": "znBBAylQXhZ4"
      },
      "execution_count": null,
      "outputs": []
    },
    {
      "cell_type": "code",
      "source": [],
      "metadata": {
        "id": "QVVATrqhXhWt"
      },
      "execution_count": null,
      "outputs": []
    }
  ]
}